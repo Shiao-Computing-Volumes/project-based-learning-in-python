{
 "cells": [
  {
   "cell_type": "markdown",
   "metadata": {},
   "source": [
    "# Python Data Structure\n",
    "\n",
    "Data Types:\n",
    "\n",
    "- tuples, list, dict\n",
    "- strings\n",
    "- sets, frozensets"
   ]
  },
  {
   "cell_type": "markdown",
   "metadata": {},
   "source": [
    "## Tuples, List, and Dict"
   ]
  },
  {
   "cell_type": "markdown",
   "metadata": {},
   "source": [
    "Representations of tuple, list and dict"
   ]
  },
  {
   "cell_type": "code",
   "execution_count": 27,
   "metadata": {},
   "outputs": [],
   "source": [
    "# tuple\n",
    "temperature_tuple = (40, 50, 60)\n",
    "\n",
    "# list\n",
    "temperature_list = [40, 50, 60]\n",
    "\n",
    "# dict\n",
    "temperature_dict = {\n",
    "    40: 1,\n",
    "    50: 1,\n",
    "    60: 1,\n",
    "}"
   ]
  },
  {
   "cell_type": "markdown",
   "metadata": {},
   "source": [
    "Differences between tuple and list\n",
    "\n",
    "- tuple: immutable, faster, less memory\n",
    "- list: mutable, slower, more memory"
   ]
  },
  {
   "cell_type": "code",
   "execution_count": 28,
   "metadata": {},
   "outputs": [
    {
     "data": {
      "text/plain": [
       "40"
      ]
     },
     "execution_count": 28,
     "metadata": {},
     "output_type": "execute_result"
    }
   ],
   "source": [
    "# tuple\n",
    "# - insert (X)\n",
    "# - delete (X)\n",
    "# - modify (X)\n",
    "# - search (Y)\n",
    "temperature_tuple[0]"
   ]
  },
  {
   "cell_type": "code",
   "execution_count": 29,
   "metadata": {},
   "outputs": [
    {
     "name": "stdout",
     "output_type": "stream",
     "text": [
      "insert: [40, 50, 70]\n",
      "remove: [50, 70]\n",
      "modify: [50, 0]\n",
      "search: [50, 0]\n"
     ]
    }
   ],
   "source": [
    "# list\n",
    "# - insert (Y)\n",
    "temperature_list[-1] = 70\n",
    "print(\"insert: {}\".format(temperature_list))\n",
    "# - delete (Y)\n",
    "temperature_list.remove(40)\n",
    "print(\"remove: {}\".format(temperature_list))\n",
    "# - modify (Y)\n",
    "temperature_list[1] = 0\n",
    "print(\"modify: {}\".format(temperature_list))\n",
    "# - search (Y)\n",
    "temperature_list[:2]\n",
    "print(\"search: {}\".format(temperature_list))"
   ]
  },
  {
   "cell_type": "code",
   "execution_count": 33,
   "metadata": {},
   "outputs": [
    {
     "name": "stdout",
     "output_type": "stream",
     "text": [
      "insert: {40: 0, 50: 1, 60: 1, 70: 0}\n",
      "remove: {40: 0, 50: 1, 60: 1}\n",
      "modify: {40: 0, 50: 1, 60: 1}\n",
      "search: 0\n"
     ]
    }
   ],
   "source": [
    "# dict\n",
    "# - insert (Y)\n",
    "temperature_dict[70] = 0\n",
    "print(\"insert: {}\".format(temperature_dict))\n",
    "# - delete (Y)\n",
    "del temperature_dict[70]\n",
    "print(\"remove: {}\".format(temperature_dict))\n",
    "# - modify (Y)\n",
    "temperature_dict[40] = 0\n",
    "print(\"modify: {}\".format(temperature_dict))\n",
    "# - search (Y)\n",
    "print(\"search: {}\".format(temperature_dict[40]))"
   ]
  },
  {
   "cell_type": "markdown",
   "metadata": {},
   "source": [
    "## Strings"
   ]
  },
  {
   "cell_type": "code",
   "execution_count": 34,
   "metadata": {},
   "outputs": [],
   "source": [
    "text = \"abcde\""
   ]
  },
  {
   "cell_type": "markdown",
   "metadata": {},
   "source": [
    "## Sets & Frozensets"
   ]
  },
  {
   "cell_type": "markdown",
   "metadata": {},
   "source": [
    "Difference between sets and frozensets\n",
    "\n",
    "- sets: mutable\n",
    "- frozensets: immutable"
   ]
  },
  {
   "cell_type": "code",
   "execution_count": 35,
   "metadata": {},
   "outputs": [],
   "source": [
    "# sets\n",
    "a = set([1, 2, 3])\n",
    "b = set([2, 3, 4])\n",
    "\n",
    "# frozensets\n",
    "c = frozenset([1, 2, 3])\n",
    "d = frozenset([2, 3, 4])"
   ]
  },
  {
   "cell_type": "code",
   "execution_count": 40,
   "metadata": {},
   "outputs": [
    {
     "data": {
      "text/plain": [
       "{1, 2, 3, 4}"
      ]
     },
     "execution_count": 40,
     "metadata": {},
     "output_type": "execute_result"
    }
   ],
   "source": [
    "a.union(b)"
   ]
  },
  {
   "cell_type": "code",
   "execution_count": 41,
   "metadata": {},
   "outputs": [
    {
     "data": {
      "text/plain": [
       "frozenset({1, 2, 3, 4})"
      ]
     },
     "execution_count": 41,
     "metadata": {},
     "output_type": "execute_result"
    }
   ],
   "source": [
    "c.union(d)"
   ]
  },
  {
   "cell_type": "code",
   "execution_count": 43,
   "metadata": {},
   "outputs": [
    {
     "data": {
      "text/plain": [
       "{1, 2, 3, frozenset({1, 2, 3})}"
      ]
     },
     "execution_count": 43,
     "metadata": {},
     "output_type": "execute_result"
    }
   ],
   "source": [
    "a.add(c)\n",
    "a"
   ]
  },
  {
   "cell_type": "code",
   "execution_count": 45,
   "metadata": {},
   "outputs": [
    {
     "ename": "AttributeError",
     "evalue": "'frozenset' object has no attribute 'add'",
     "output_type": "error",
     "traceback": [
      "\u001b[0;31m---------------------------------------------------------------------------\u001b[0m",
      "\u001b[0;31mAttributeError\u001b[0m                            Traceback (most recent call last)",
      "\u001b[0;32m<ipython-input-45-f9a6e5362a32>\u001b[0m in \u001b[0;36m<module>\u001b[0;34m\u001b[0m\n\u001b[0;32m----> 1\u001b[0;31m \u001b[0mc\u001b[0m\u001b[0;34m.\u001b[0m\u001b[0madd\u001b[0m\u001b[0;34m(\u001b[0m\u001b[0ma\u001b[0m\u001b[0;34m)\u001b[0m\u001b[0;34m\u001b[0m\u001b[0m\n\u001b[0m",
      "\u001b[0;31mAttributeError\u001b[0m: 'frozenset' object has no attribute 'add'"
     ]
    }
   ],
   "source": [
    "c.add(a)"
   ]
  },
  {
   "cell_type": "code",
   "execution_count": null,
   "metadata": {},
   "outputs": [],
   "source": []
  }
 ],
 "metadata": {
  "kernelspec": {
   "display_name": "Python 3",
   "language": "python",
   "name": "python3"
  },
  "language_info": {
   "codemirror_mode": {
    "name": "ipython",
    "version": 3
   },
   "file_extension": ".py",
   "mimetype": "text/x-python",
   "name": "python",
   "nbconvert_exporter": "python",
   "pygments_lexer": "ipython3",
   "version": "3.6.3"
  }
 },
 "nbformat": 4,
 "nbformat_minor": 2
}
