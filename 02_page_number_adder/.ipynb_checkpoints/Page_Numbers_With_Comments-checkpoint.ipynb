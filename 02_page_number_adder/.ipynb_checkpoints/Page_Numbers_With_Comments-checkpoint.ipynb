{
 "cells": [
  {
   "cell_type": "markdown",
   "metadata": {},
   "source": [
    "# Page Numbers"
   ]
  },
  {
   "cell_type": "markdown",
   "metadata": {},
   "source": [
    "## Part 1. Libraries"
   ]
  },
  {
   "cell_type": "markdown",
   "metadata": {},
   "source": [
    "`COMMENTS:`\n",
    "\n",
    "the order of importing libraries\n",
    "\n",
    "- 1. standard libraries\n",
    "- 2. external libraries\n",
    "- 3. project libraries"
   ]
  },
  {
   "cell_type": "code",
   "execution_count": 4,
   "metadata": {},
   "outputs": [
    {
     "data": {
      "text/plain": [
       "'\\nOriginal codes:\\n\\nimport pandas as pd\\nimport numpy as np\\n\\n#rather perhaps superfluous\\nimport math, re, operator, fnmatch, itertools\\n\\nfrom itertools import islice\\nfrom networkx.utils import powerlaw_sequence\\n'"
      ]
     },
     "execution_count": 4,
     "metadata": {},
     "output_type": "execute_result"
    }
   ],
   "source": [
    "\"\"\"\n",
    "Original codes:\n",
    "\n",
    "import pandas as pd\n",
    "import numpy as np\n",
    "\n",
    "#rather perhaps superfluous\n",
    "import math, re, operator, fnmatch, itertools\n",
    "\n",
    "from itertools import islice\n",
    "from networkx.utils import powerlaw_sequence\n",
    "\"\"\""
   ]
  },
  {
   "cell_type": "code",
   "execution_count": 5,
   "metadata": {},
   "outputs": [],
   "source": [
    "# updated codes\n",
    "\n",
    "# 1. standard libraries\n",
    "from itertools import islice\n",
    "import math, re, operator, fnmatch, itertools\n",
    "\n",
    "# 2. external libraries\n",
    "import numpy as np\n",
    "import pandas as pd\n",
    "from networkx.utils import powerlaw_sequence"
   ]
  },
  {
   "cell_type": "markdown",
   "metadata": {},
   "source": [
    "## Part 2. Data Loading"
   ]
  },
  {
   "cell_type": "markdown",
   "metadata": {},
   "source": [
    "`COMMENTS:`\n",
    "\n",
    "1. Python coding convention: \n",
    "    - PEP8: https://www.python.org/dev/peps/pep-0008/#introduction\n",
    "2. File paths:\n",
    "    - absolute paths [OK]\n",
    "    - relative paths [better] (jupyter notebook)\n",
    "    - auto detection [best] (projects)"
   ]
  },
  {
   "cell_type": "code",
   "execution_count": null,
   "metadata": {},
   "outputs": [],
   "source": [
    "\"\"\"\n",
    "Original Codes\n",
    "\n",
    "# After pasting citable pages from a book into a csv file,\n",
    "# on the Home tab, in the Editing group, click the arrow next\n",
    "# to the Clear button, and click Clear Formats.\n",
    "\n",
    "# absolute paths -> relative paths / detecting paths by codes\n",
    "pathToFile = \"G:\\pageNumberAdder\\pagenumbers.csv\"\n",
    "\n",
    "#This program uses both dataReg and data\n",
    "data = pd.read_csv(pathToFile, encoding=\"ISO-8859-1\")\n",
    "\"\"\""
   ]
  },
  {
   "cell_type": "code",
   "execution_count": 15,
   "metadata": {},
   "outputs": [],
   "source": [
    "# updated codes\n",
    "\n",
    "# a relative path\n",
    "datafile = \"./data/csv/pagenumbers.csv\"\n",
    "\n",
    "# loading data\n",
    "data = pd.read_csv(datafile, sep=\",\")"
   ]
  },
  {
   "cell_type": "code",
   "execution_count": 16,
   "metadata": {},
   "outputs": [
    {
     "data": {
      "text/html": [
       "<div>\n",
       "<style scoped>\n",
       "    .dataframe tbody tr th:only-of-type {\n",
       "        vertical-align: middle;\n",
       "    }\n",
       "\n",
       "    .dataframe tbody tr th {\n",
       "        vertical-align: top;\n",
       "    }\n",
       "\n",
       "    .dataframe thead th {\n",
       "        text-align: right;\n",
       "    }\n",
       "</style>\n",
       "<table border=\"1\" class=\"dataframe\">\n",
       "  <thead>\n",
       "    <tr style=\"text-align: right;\">\n",
       "      <th></th>\n",
       "      <th>Text</th>\n",
       "      <th>Summary</th>\n",
       "      <th>Author</th>\n",
       "      <th>Title</th>\n",
       "      <th>Page Numbers</th>\n",
       "    </tr>\n",
       "  </thead>\n",
       "  <tbody>\n",
       "    <tr>\n",
       "      <td>0</td>\n",
       "      <td>blah blah blah</td>\n",
       "      <td>blatherskite</td>\n",
       "      <td>Deferential Writer</td>\n",
       "      <td>A Superfluous Tale</td>\n",
       "      <td>NaN</td>\n",
       "    </tr>\n",
       "    <tr>\n",
       "      <td>1</td>\n",
       "      <td>blah blah blah</td>\n",
       "      <td>blatherskite</td>\n",
       "      <td>Deferential Writer</td>\n",
       "      <td>A Superfluous Tale</td>\n",
       "      <td>NaN</td>\n",
       "    </tr>\n",
       "    <tr>\n",
       "      <td>2</td>\n",
       "      <td>back in 1822, there was a warthog</td>\n",
       "      <td>blatherskite</td>\n",
       "      <td>Deferential Writer</td>\n",
       "      <td>A Superfluous Tale</td>\n",
       "      <td>NaN</td>\n",
       "    </tr>\n",
       "    <tr>\n",
       "      <td>3</td>\n",
       "      <td>blah blah blah</td>\n",
       "      <td>blatherskite</td>\n",
       "      <td>Deferential Writer</td>\n",
       "      <td>A Superfluous Tale</td>\n",
       "      <td>NaN</td>\n",
       "    </tr>\n",
       "    <tr>\n",
       "      <td>4</td>\n",
       "      <td>blah blah blah</td>\n",
       "      <td>blatherskite</td>\n",
       "      <td>Deferential Writer</td>\n",
       "      <td>A Superfluous Tale</td>\n",
       "      <td>NaN</td>\n",
       "    </tr>\n",
       "  </tbody>\n",
       "</table>\n",
       "</div>"
      ],
      "text/plain": [
       "                                Text       Summary              Author  \\\n",
       "0                     blah blah blah  blatherskite  Deferential Writer   \n",
       "1                     blah blah blah  blatherskite  Deferential Writer   \n",
       "2  back in 1822, there was a warthog  blatherskite  Deferential Writer   \n",
       "3                     blah blah blah  blatherskite  Deferential Writer   \n",
       "4                     blah blah blah  blatherskite  Deferential Writer   \n",
       "\n",
       "                Title  Page Numbers  \n",
       "0  A Superfluous Tale           NaN  \n",
       "1  A Superfluous Tale           NaN  \n",
       "2  A Superfluous Tale           NaN  \n",
       "3  A Superfluous Tale           NaN  \n",
       "4  A Superfluous Tale           NaN  "
      ]
     },
     "execution_count": 16,
     "metadata": {},
     "output_type": "execute_result"
    }
   ],
   "source": [
    "data.head(5)"
   ]
  },
  {
   "cell_type": "markdown",
   "metadata": {},
   "source": [
    "## Part 3. Data Preprocessing"
   ]
  },
  {
   "cell_type": "markdown",
   "metadata": {},
   "source": [
    "`COMMENTS:`\n",
    "\n",
    "1. Coding convention: meaning names > meanless names\n",
    "2. `input()`: \n",
    "    - Python 3 only: `[(x) for x in input().split(', ')]`\n",
    "    - Jupyter notebook: `Notebook 02_page_number_adder/Page_Numbers_With_Comments.ipynb is not trusted`\n",
    "    - Project-based preferred (command line interface)\n",
    "    \n",
    "Examples:\n",
    "\n",
    "```\n",
    ">>> page_numbers = [(x) for x in input().split(', ')]\n",
    "12, 34\n",
    ">>> page_numbers\n",
    "['12', '34']\n",
    "\n",
    ">>> page_numbers = [(x) for x in input().split(', ')]\n",
    "11-2, 12-3\n",
    ">>> page_numbers\n",
    "['11-2', '12-3']\n",
    "```"
   ]
  },
  {
   "cell_type": "code",
   "execution_count": null,
   "metadata": {},
   "outputs": [],
   "source": [
    "\"\"\"\n",
    "# OKAY PRE-PROCESSING\n",
    "# for actual processing, see mypreprocessing txt file\n",
    "\n",
    "print(\"Please enter your list of page numbers: \")\n",
    "\n",
    "# Remember to use just ENTER TWICE for input\n",
    "listy = [(x) for x in input().split(', ')]\n",
    "print(listy)\n",
    "\"\"\""
   ]
  },
  {
   "cell_type": "code",
   "execution_count": null,
   "metadata": {},
   "outputs": [],
   "source": [
    "# updated codes\n",
    "\n",
    "txt = \"\"\"\n",
    "Please enter your list of page numbers, separating by\n",
    "a comma and an empty space (e.g. 12, 34).\n",
    "\"\"\"\n",
    "\n",
    "print(txt)\n",
    "page_numbers = [(x) for x in input().split(', ')]"
   ]
  },
  {
   "cell_type": "code",
   "execution_count": null,
   "metadata": {},
   "outputs": [],
   "source": [
    "page_numbers"
   ]
  },
  {
   "cell_type": "markdown",
   "metadata": {},
   "source": [
    "`COMMENTS:`\n",
    "\n"
   ]
  },
  {
   "cell_type": "code",
   "execution_count": null,
   "metadata": {},
   "outputs": [],
   "source": [
    "\"\"\"\n",
    "# for actual processing, see myprocessing2 txt file\n",
    "\n",
    "def commaHyphenFix(lliissttyy):\n",
    "    pageNumberList = []\n",
    "    priorNumber = 0\n",
    "    for stringchar, item in enumerate(lliissttyy):\n",
    "        if \"-\" in item:\n",
    "            splitNumber1, splitNumber2 = item.split('-')   \n",
    "            if splitNumber1 == \"\":\n",
    "                \n",
    "                pageNumberList.append(str(priorNumber) + \"-\" + splitNumber2) \n",
    "        priorNumber = lliissttyy[stringchar]\n",
    "\n",
    "    return pageNumberList\n",
    "\n",
    "print(commaHyphenFix(listy))\n",
    "\"\"\""
   ]
  },
  {
   "cell_type": "code",
   "execution_count": 41,
   "metadata": {},
   "outputs": [],
   "source": [
    "def fix_comma_hyphen(page_numbers):\n",
    "    page_number_fixed = []\n",
    "    \n",
    "    prior_number = 0\n",
    "    for string_character, item in enumerate(page_numbers):\n",
    "        if \"-\" in item:\n",
    "            number1, number2 = item.split('-')\n",
    "            if number1 == \"\":\n",
    "                page_number_fixed.append(str(prior_number) + \"-\" + number2)\n",
    "        prior_number = page_numbers[string_character]\n",
    "    return page_number_fixed"
   ]
  },
  {
   "cell_type": "code",
   "execution_count": null,
   "metadata": {},
   "outputs": [],
   "source": [
    "page_nubmers = ['12', '34']\n",
    "page_number_fixed = fix_comma_hyphen(page_numbers)\n",
    "print(page_number_fixed)"
   ]
  },
  {
   "cell_type": "markdown",
   "metadata": {},
   "source": [
    "Add page numbers indicated by '-'. Check every instance of a hyphen between two numbers. If they are not integers sequential by 1 integer, the program should loop through, adding each integer in between those 2 integers. For example, an input list of ‘29-34’ would be changed to '29, 30, 31, 32, 33, 34'."
   ]
  },
  {
   "cell_type": "code",
   "execution_count": 43,
   "metadata": {},
   "outputs": [],
   "source": [
    "def addPages(lliisstt):\n",
    "    pageNumberList = []\n",
    "    for stringchar, item in enumerate(lliisstt):\n",
    "        if \"-\" in item:\n",
    "            splitNumber1, splitNumber2 = item.split('-')   \n",
    "            rangy = int(splitNumber2) - int(splitNumber1) + 1\n",
    "            for counter in range(rangy):          \n",
    "                splitNumber = str(int(splitNumber1) + counter)\n",
    "                pageNumberList.append(splitNumber) \n",
    "        else:\n",
    "            pageNumberList.append(item) \n",
    "                \n",
    "    return pageNumberList\n",
    "    "
   ]
  },
  {
   "cell_type": "code",
   "execution_count": 44,
   "metadata": {},
   "outputs": [],
   "source": [
    "yayList = addPages(listy)"
   ]
  },
  {
   "cell_type": "code",
   "execution_count": 45,
   "metadata": {},
   "outputs": [
    {
     "name": "stdout",
     "output_type": "stream",
     "text": [
      "['']\n"
     ]
    }
   ],
   "source": [
    "print(yayList)"
   ]
  },
  {
   "cell_type": "code",
   "execution_count": 46,
   "metadata": {},
   "outputs": [],
   "source": [
    "#Delete apostrophes, and siphon through the page number program"
   ]
  },
  {
   "cell_type": "code",
   "execution_count": null,
   "metadata": {},
   "outputs": [],
   "source": []
  },
  {
   "cell_type": "markdown",
   "metadata": {},
   "source": [
    "OKAY LAYOUT OPTIONS - not yet fully functional 4-17-19"
   ]
  },
  {
   "cell_type": "code",
   "execution_count": 131,
   "metadata": {},
   "outputs": [
    {
     "name": "stdout",
     "output_type": "stream",
     "text": [
      "Where are the page numbers? \n",
      "1 the end of the page; \n",
      "2 the end of the page, except chapter title pages have no page number, only the chapter number at the top; \n",
      "3 the end of the page, except chapter title pages have no page number, Nor any chapter number at the top; \n",
      "4 the end of the page including chapter title pages, which also have chapter title page at the top; \n",
      "5 at the top of the page, except chapter title pages have no page number, Nor any chapter number at the top; \n",
      "6 the top of the page, except chapter title pages have no page number, only the chapter number at the top; \n",
      "7 the top of the page; \n",
      "8 the top of the page, except chapter title pages have the page number at the end of the page.\n"
     ]
    }
   ],
   "source": [
    "print(\"Where are the page numbers? \\n1 the end of the page; \\n2 the end of the page, except chapter title pages have no page number, only the chapter number at the top; \\n3 the end of the page, except chapter title pages have no page number, Nor any chapter number at the top; \\n4 the end of the page including chapter title pages, which also have chapter title page at the top; \\n5 at the top of the page, except chapter title pages have no page number, Nor any chapter number at the top; \\n6 the top of the page, except chapter title pages have no page number, only the chapter number at the top; \\n7 the top of the page; \\n8 the top of the page, except chapter title pages have the page number at the end of the page.\")"
   ]
  },
  {
   "cell_type": "code",
   "execution_count": null,
   "metadata": {},
   "outputs": [],
   "source": [
    "paginationFormat = input(\"Please indicate where the page numbers are located: \")"
   ]
  },
  {
   "cell_type": "code",
   "execution_count": null,
   "metadata": {},
   "outputs": [],
   "source": [
    "print(paginationFormat)"
   ]
  },
  {
   "cell_type": "code",
   "execution_count": null,
   "metadata": {},
   "outputs": [],
   "source": [
    "chapterTitlePageList = input(\"What pages are chapter title pages?\")"
   ]
  },
  {
   "cell_type": "code",
   "execution_count": null,
   "metadata": {},
   "outputs": [],
   "source": []
  },
  {
   "cell_type": "code",
   "execution_count": null,
   "metadata": {},
   "outputs": [],
   "source": [
    "def chTitlePage(chapterTitlePageList)"
   ]
  },
  {
   "cell_type": "code",
   "execution_count": null,
   "metadata": {},
   "outputs": [],
   "source": [
    "chTitlePage()"
   ]
  },
  {
   "cell_type": "code",
   "execution_count": null,
   "metadata": {},
   "outputs": [],
   "source": []
  },
  {
   "cell_type": "code",
   "execution_count": null,
   "metadata": {},
   "outputs": [],
   "source": [
    "def numberLayout(pageNumberPattern)\n",
    "    rangeOfNumbers = 7\n",
    "\n",
    "    for a in rangeOfNumbers:\n",
    "        if pageNumberPattern == a:\n",
    "            \n",
    "\n",
    "    return \n"
   ]
  },
  {
   "cell_type": "code",
   "execution_count": null,
   "metadata": {},
   "outputs": [],
   "source": [
    "numberLayout()"
   ]
  },
  {
   "cell_type": "code",
   "execution_count": null,
   "metadata": {},
   "outputs": [],
   "source": []
  },
  {
   "cell_type": "code",
   "execution_count": null,
   "metadata": {},
   "outputs": [],
   "source": []
  },
  {
   "cell_type": "markdown",
   "metadata": {},
   "source": [
    "OKAY PAGE NUMBER ADDER SECTION"
   ]
  },
  {
   "cell_type": "code",
   "execution_count": 28,
   "metadata": {},
   "outputs": [],
   "source": [
    "# Gets row indexes that have a number NOT adjacent to a colon or period - or what might have been a \n",
    "# colon or period in the original (so as to not mistake a verse number or number in a numbered list\n",
    "# for a page number). Will CAUSE problems if a scan has smushed a colon in with a block of text\n",
    "# containing a real page number, OR if a scan has turned letter(s) into a number adjacent to a colon or period.\n",
    "dataReg = open(pathToFile)\n",
    "listOIndexes = []\n",
    "def getRawIndexList():\n",
    "    listToAvoid = ('0:','1:','2:','3:', '4:', '5:', '6:', '7:', '8:', '9:', ':0', ':1', ':2', ':3', ':4', ':5', ':6', ':7', ':8', ':9', '0:','1:','2:','3:', '4:', '5:', '6:', '7:', '8:', '9:', ':0', ':1', ':2', ':3', ':4', ':5', ':6', ':7', ':8', ':9', '0.','1.','2.','3.', '4.', '5.', '6.', '7.', '8.', '9.', '.0', '.1', '.2', '.3', '.4', '.5', '.6', '.7', '.8', '.9')\n",
    "    for rowIndexes, row in enumerate(dataReg):\n",
    "        if re.search('[0-9]', row):\n",
    "            if row in listToAvoid:\n",
    "                pass\n",
    "            else:\n",
    "                listOIndexes.append(rowIndexes)\n",
    "    return listOIndexes\n"
   ]
  },
  {
   "cell_type": "code",
   "execution_count": 29,
   "metadata": {
    "scrolled": false
   },
   "outputs": [],
   "source": [
    "rawIndexList = getRawIndexList()"
   ]
  },
  {
   "cell_type": "code",
   "execution_count": 30,
   "metadata": {},
   "outputs": [
    {
     "name": "stdout",
     "output_type": "stream",
     "text": [
      "[3, 7, 14, 19, 24]\n"
     ]
    }
   ],
   "source": [
    "print(rawIndexList)"
   ]
  },
  {
   "cell_type": "code",
   "execution_count": null,
   "metadata": {},
   "outputs": [],
   "source": []
  },
  {
   "cell_type": "markdown",
   "metadata": {},
   "source": [
    "Having gotten the indexes of the rows that contain numbers, which I'll use to assign the value 'pagebreaker' in relevant cells in the 'E' row, I now delete from the list indexes pertaining to any numbers that are in the text rather than being page number delimiters. I will manually add any page break rows the program didn't catch. \n",
    "Later, running the list through something that makes sure there aren't any lengthy gaps between indexes (which would indicate the possible missing of a pagebreak) can help me find any I need to add.\n",
    "For this program, I'm assuming that the page numbers from this 'book' are the end of the pages."
   ]
  },
  {
   "cell_type": "code",
   "execution_count": 31,
   "metadata": {},
   "outputs": [
    {
     "data": {
      "text/html": [
       "<div>\n",
       "<style scoped>\n",
       "    .dataframe tbody tr th:only-of-type {\n",
       "        vertical-align: middle;\n",
       "    }\n",
       "\n",
       "    .dataframe tbody tr th {\n",
       "        vertical-align: top;\n",
       "    }\n",
       "\n",
       "    .dataframe thead th {\n",
       "        text-align: right;\n",
       "    }\n",
       "</style>\n",
       "<table border=\"1\" class=\"dataframe\">\n",
       "  <thead>\n",
       "    <tr style=\"text-align: right;\">\n",
       "      <th></th>\n",
       "      <th>Text</th>\n",
       "      <th>Summary</th>\n",
       "      <th>Author</th>\n",
       "      <th>Title</th>\n",
       "      <th>PageNumbers</th>\n",
       "    </tr>\n",
       "  </thead>\n",
       "  <tbody>\n",
       "    <tr>\n",
       "      <th>0</th>\n",
       "      <td>blah blah blah</td>\n",
       "      <td>blatherskite</td>\n",
       "      <td>Deferential Writer</td>\n",
       "      <td>A Superfluous Tale</td>\n",
       "      <td>NaN</td>\n",
       "    </tr>\n",
       "    <tr>\n",
       "      <th>1</th>\n",
       "      <td>blah blah blah</td>\n",
       "      <td>blatherskite</td>\n",
       "      <td>Deferential Writer</td>\n",
       "      <td>A Superfluous Tale</td>\n",
       "      <td>NaN</td>\n",
       "    </tr>\n",
       "    <tr>\n",
       "      <th>2</th>\n",
       "      <td>back in 1822, there was a warthog</td>\n",
       "      <td>blatherskite</td>\n",
       "      <td>Deferential Writer</td>\n",
       "      <td>A Superfluous Tale</td>\n",
       "      <td>NaN</td>\n",
       "    </tr>\n",
       "    <tr>\n",
       "      <th>3</th>\n",
       "      <td>blah blah blah</td>\n",
       "      <td>blatherskite</td>\n",
       "      <td>Deferential Writer</td>\n",
       "      <td>A Superfluous Tale</td>\n",
       "      <td>NaN</td>\n",
       "    </tr>\n",
       "    <tr>\n",
       "      <th>4</th>\n",
       "      <td>blah blah blah</td>\n",
       "      <td>blatherskite</td>\n",
       "      <td>Deferential Writer</td>\n",
       "      <td>A Superfluous Tale</td>\n",
       "      <td>NaN</td>\n",
       "    </tr>\n",
       "  </tbody>\n",
       "</table>\n",
       "</div>"
      ],
      "text/plain": [
       "                                Text       Summary              Author  \\\n",
       "0                     blah blah blah  blatherskite  Deferential Writer   \n",
       "1                     blah blah blah  blatherskite  Deferential Writer   \n",
       "2  back in 1822, there was a warthog  blatherskite  Deferential Writer   \n",
       "3                     blah blah blah  blatherskite  Deferential Writer   \n",
       "4                     blah blah blah  blatherskite  Deferential Writer   \n",
       "\n",
       "                Title  PageNumbers  \n",
       "0  A Superfluous Tale          NaN  \n",
       "1  A Superfluous Tale          NaN  \n",
       "2  A Superfluous Tale          NaN  \n",
       "3  A Superfluous Tale          NaN  \n",
       "4  A Superfluous Tale          NaN  "
      ]
     },
     "execution_count": 31,
     "metadata": {},
     "output_type": "execute_result"
    }
   ],
   "source": [
    "data.head()"
   ]
  },
  {
   "cell_type": "code",
   "execution_count": 32,
   "metadata": {},
   "outputs": [],
   "source": [
    "def initializeDictionaryOfRows(initializeListOfRows):\n",
    "    rowDict = {k: v for v, k in enumerate(initializeListOfRows)}\n",
    "    return(rowDict)\n"
   ]
  },
  {
   "cell_type": "code",
   "execution_count": 33,
   "metadata": {},
   "outputs": [],
   "source": [
    "def assignListOfIndexesToDict(indexList):\n",
    "    inDictMint = {k: v for v, k in enumerate(indexList)}\n",
    "    return(inDictMint)\n"
   ]
  },
  {
   "cell_type": "code",
   "execution_count": 34,
   "metadata": {},
   "outputs": [
    {
     "name": "stdout",
     "output_type": "stream",
     "text": [
      "{None: 4345}\n",
      "{1: 0, 36: 1, 73: 2, 110: 3, 147: 4, 186: 5, 222: 6, 258: 7, 294: 8, 331: 9, 369: 10, 402: 11, 437: 12, 470: 13, 506: 14, 539: 15, 576: 16, 644: 17, 678: 18, 715: 19, 751: 20, 787: 21, 823: 22, 860: 23, 895: 24, 931: 25, 965: 26, 1001: 27, 1028: 28, 1064: 29, 1100: 30, 1135: 31, 1170: 32, 1204: 33, 1240: 34, 1277: 35, 1314: 36, 1349: 37, 1386: 38, 1422: 39, 1458: 40, 1494: 41, 1529: 42, 1564: 43, 1591: 44, 1627: 45, 1664: 46, 1702: 47, 1739: 48, 1776: 49, 1810: 50, 1844: 51, 1880: 52, 1917: 53, 1952: 54, 1984: 55, 2023: 56, 2060: 57, 2095: 58, 2131: 59, 2168: 60, 2205: 61, 2239: 62, 2276: 63, 2312: 64, 2345: 65, 2381: 66, 2417: 67, 2453: 68, 2490: 69, 2527: 70, 2562: 71, 2599: 72, 2636: 73, 2673: 74, 2710: 75, 2747: 76, 2782: 77, 2818: 78, 2855: 79, 2891: 80, 2926: 81, 2962: 82, 2996: 83, 3033: 84, 3071: 85, 3109: 86, 3144: 87, 3182: 88, 3219: 89, 3255: 90, 3289: 91, 3326: 92, 3363: 93, 3398: 94, 3435: 95, 3471: 96, 3508: 97, 3545: 98, 3582: 99, 3617: 100, 3654: 101, 3717: 102, 3750: 103, 3786: 104, 3820: 105, 3857: 106, 3894: 107, 3931: 108, 3966: 109, 4003: 110, 4040: 111, 4075: 112, 4110: 113, 4146: 114, 4183: 115, 4219: 116, 4254: 117, 4291: 118, 4328: 119}\n"
     ]
    }
   ],
   "source": [
    "listOfRows = [None]*4346\n",
    "dictOfRows = initializeDictionaryOfRows(listOfRows)\n",
    "print(dictOfRows)\n",
    "\n",
    "listOfIndexes = [1, 36, 73, 110, 147, 186, 222, 258, 294, 331, 369, 402, 437, 470, 506, 539, 576, 644, 678, 715, 751, 787, 823, 860, 895, 931, 965, 1001, 1028, 1064, 1100, 1135, 1170, 1204, 1240, 1277, 1314, 1349, 1386, 1422, 1458, 1494, 1529, 1564, 1591, 1627, 1664, 1702, 1739, 1776, 1810, 1844, 1880, 1917, 1952, 1984, 2023, 2060, 2095, 2131, 2168, 2205, 2239, 2276, 2312, 2345, 2381, 2417, 2453, 2490, 2527, 2562, 2599, 2636, 2673, 2710, 2747, 2782, 2818, 2855, 2891, 2926, 2962, 2996, 3033, 3071, 3109, 3144, 3182, 3219, 3255, 3289, 3326, 3363, 3398, 3435, 3471, 3508, 3545, 3582, 3617, 3654, 3717, 3750, 3786, 3820, 3857, 3894, 3931, 3966, 4003, 4040, 4075, 4110, 4146, 4183, 4219, 4254, 4291, 4328]\n",
    "dictOfIndexes = assignListOfIndexesToDict(listOfIndexes)\n",
    "print(dictOfIndexes)"
   ]
  },
  {
   "cell_type": "code",
   "execution_count": 35,
   "metadata": {},
   "outputs": [],
   "source": [
    "def addPagebreakers(ur_Dict_Of_Rows, ur_Dict_Of_Indexes):\n",
    "    #Take dictOfRows and add pagebreakers based on dictOfIndexes\n",
    "    newDict = {}\n",
    "    for k,cellValue in ur_Dict_Of_Rows.items():\n",
    "        if cellValue in ur_Dict_Of_Indexes:\n",
    "            newDict[cellValue] = 'pagebreaker'\n",
    "        else:\n",
    "            newDict[cellValue] = cellValue\n",
    "    return newDict\n",
    "    "
   ]
  },
  {
   "cell_type": "code",
   "execution_count": 36,
   "metadata": {},
   "outputs": [
    {
     "data": {
      "text/plain": [
       "{4345: 4345}"
      ]
     },
     "execution_count": 36,
     "metadata": {},
     "output_type": "execute_result"
    }
   ],
   "source": [
    "morphingDict = addPagebreakers(dictOfRows, dictOfIndexes)\n",
    "morphingDict"
   ]
  },
  {
   "cell_type": "code",
   "execution_count": 37,
   "metadata": {},
   "outputs": [],
   "source": [
    "def addPageNumbers(dictInProgress, yayIndexListAgain, pageNumberList, rowList, indexList):\n",
    "    finalList = []\n",
    "    counter = 0\n",
    "\n",
    "    for i, v in enumerate(dictInProgress):\n",
    "        if dictInProgress[v] == \"pagebreaker\":\n",
    "            counter += 1\n",
    "            finalList.append(\"pageBreaker\")\n",
    "        else:\n",
    "            if counter < len(yayIndexListAgain):\n",
    "                finalList.append(str(pageNumberList[counter]))\n",
    "                \n",
    "    print(finalList)\n",
    "\n",
    "    return finalList\n"
   ]
  },
  {
   "cell_type": "code",
   "execution_count": null,
   "metadata": {},
   "outputs": [],
   "source": []
  },
  {
   "cell_type": "code",
   "execution_count": 38,
   "metadata": {},
   "outputs": [
    {
     "name": "stdout",
     "output_type": "stream",
     "text": [
      "['5']\n"
     ]
    }
   ],
   "source": [
    "listOfPageNumbers = [5, 6, 7, 8, 9, 10, 13, 14, 15, 17, 26, 27, 28, 36, 37, 38, 39, 42, 43, 44, 45, 46, 47, 48, 49, 54, 55, 56, 57, 58, 59, 60, 61, 62, 65, 67, 71, 73, 74, 75, 76, 77, 78, 79, 80, 81, 82, 83, 84, 85, 86, 87, 88, 89, 90, 92, 93, 94, 95, 96, 97, 98, 99, 100, 101, 102, 103, 104, 105, 106, 107, 108, 110, 111, 114, 117, 120, 121, 123, 124, 127, 128, 129, 130, 131, 132, 141, 145, 147, 148, 149, 150, 151, 152, 153, 154, 155, 156, 157, 158, 159, 160, 161, 162, 163, 164, 165, 166, 167, 168, 169, 170, 171, 172, 174, 175, 176, 177, 178, 179, 180, 181]\n",
    "youGotItToyotaList = addPageNumbers(morphingDict, dictOfIndexes, listOfPageNumbers, listOfRows, listOfIndexes)\n"
   ]
  },
  {
   "cell_type": "code",
   "execution_count": null,
   "metadata": {},
   "outputs": [],
   "source": []
  },
  {
   "cell_type": "markdown",
   "metadata": {},
   "source": [
    "Make sure you've inserted the current list of page numbers AND the dictionary from above:"
   ]
  },
  {
   "cell_type": "code",
   "execution_count": 39,
   "metadata": {},
   "outputs": [
    {
     "name": "stdout",
     "output_type": "stream",
     "text": [
      "1 0\n",
      "36 1\n",
      "73 2\n",
      "110 3\n",
      "147 4\n",
      "186 5\n",
      "222 6\n",
      "258 7\n",
      "294 8\n",
      "331 9\n"
     ]
    }
   ],
   "source": [
    "listOfPageNumbers = [5, 6, 7, 8, 9, 10, 13, 14, 15, 17, 26, 27, 28, 36, 37, 38, 39, 42, 43, 44, 45, 46, 47, 48, 49, 54, 55, 56, 57, 58, 59, 60, 61, 62, 65, 67, 71, 73, 74, 75, 76, 77, 78, 79, 80, 81, 82, 83, 84, 85, 86, 87, 88, 89, 90, 92, 93, 94, 95, 96, 97, 98, 99, 100, 101, 102, 103, 104, 105, 106, 107, 108, 110, 111, 114, 117, 120, 121, 123, 124, 127, 128, 129, 130, 131, 132, 141, 145, 147, 148, 149, 150, 151, 152, 153, 154, 155, 156, 157, 158, 159, 160, 161, 162, 163, 164, 165, 166, 167, 168, 169, 170, 171, 172, 174, 175, 176, 177, 178, 179, 180, 181]\n",
    "\n",
    "#initialize dictionary\n",
    "pgDict = {\n",
    "    1: 0, 36: 1, 73: 2, 110: 3, 147: 4, 186: 5, 222: 6, 258: 7, 294: 8, 331: 9, 369: 10, 402: 11, 437: 12, 470: 13, 506: 14, 539: 15, 576: 16, 644: 17, 678: 18, 715: 19, 751: 20, 787: 21, 823: 22, 860: 23, 895: 24, 931: 25, 965: 26, 1001: 27, 1028: 28, 1064: 29, 1100: 30, 1135: 31, 1170: 32, 1204: 33, 1240: 34, 1277: 35, 1314: 36, 1349: 37, 1386: 38, 1422: 39, 1458: 40, 1494: 41, 1529: 42, 1564: 43, 1591: 44, 1627: 45, 1664: 46, 1702: 47, 1739: 48, 1776: 49, 1810: 50, 1844: 51, 1880: 52, 1917: 53, 1952: 54, 1984: 55, 2023: 56, 2060: 57, 2095: 58, 2131: 59, 2168: 60, 2205: 61, 2239: 62, 2276: 63, 2312: 64, 2345: 65, 2381: 66, 2417: 67, 2453: 68, 2490: 69, 2527: 70, 2562: 71, 2599: 72, 2636: 73, 2673: 74, 2710: 75, 2747: 76, 2782: 77, 2818: 78, 2855: 79, 2891: 80, 2926: 81, 2962: 82, 2996: 83, 3033: 84, 3071: 85, 3109: 86, 3144: 87, 3182: 88, 3219: 89, 3255: 90, 3289: 91, 3326: 92, 3363: 93, 3398: 94, 3435: 95, 3471: 96, 3508: 97, 3545: 98, 3582: 99, 3617: 100, 3654: 101, 3717: 102, 3750: 103, 3786: 104, 3820: 105, 3857: 106, 3894: 107, 3931: 108, 3966: 109, 4003: 110, 4040: 111, 4075: 112, 4110: 113, 4146: 114, 4183: 115, 4219: 116, 4254: 117, 4291: 118, 4328: 119\n",
    "    }\n",
    "\n",
    "for key in pgDict:\n",
    "    if pgDict[key] < 10:\n",
    "        print(key, pgDict[key])"
   ]
  },
  {
   "cell_type": "code",
   "execution_count": null,
   "metadata": {},
   "outputs": [],
   "source": []
  },
  {
   "cell_type": "markdown",
   "metadata": {},
   "source": [
    "I could cycle through the indexes backwards, adding the last number in the list through until the second-to-last index, etc., then assign the list or whatever to a new column."
   ]
  },
  {
   "cell_type": "code",
   "execution_count": null,
   "metadata": {},
   "outputs": [],
   "source": []
  },
  {
   "cell_type": "code",
   "execution_count": 40,
   "metadata": {},
   "outputs": [
    {
     "data": {
      "text/html": [
       "<div>\n",
       "<style scoped>\n",
       "    .dataframe tbody tr th:only-of-type {\n",
       "        vertical-align: middle;\n",
       "    }\n",
       "\n",
       "    .dataframe tbody tr th {\n",
       "        vertical-align: top;\n",
       "    }\n",
       "\n",
       "    .dataframe thead th {\n",
       "        text-align: right;\n",
       "    }\n",
       "</style>\n",
       "<table border=\"1\" class=\"dataframe\">\n",
       "  <thead>\n",
       "    <tr style=\"text-align: right;\">\n",
       "      <th></th>\n",
       "      <th>Text</th>\n",
       "      <th>Summary</th>\n",
       "      <th>Author</th>\n",
       "      <th>Title</th>\n",
       "      <th>PageNumbers</th>\n",
       "    </tr>\n",
       "  </thead>\n",
       "  <tbody>\n",
       "    <tr>\n",
       "      <th>0</th>\n",
       "      <td>blah blah blah</td>\n",
       "      <td>blatherskite</td>\n",
       "      <td>Deferential Writer</td>\n",
       "      <td>A Superfluous Tale</td>\n",
       "      <td>5</td>\n",
       "    </tr>\n",
       "    <tr>\n",
       "      <th>1</th>\n",
       "      <td>blah blah blah</td>\n",
       "      <td>blatherskite</td>\n",
       "      <td>Deferential Writer</td>\n",
       "      <td>A Superfluous Tale</td>\n",
       "      <td>NaN</td>\n",
       "    </tr>\n",
       "    <tr>\n",
       "      <th>2</th>\n",
       "      <td>back in 1822, there was a warthog</td>\n",
       "      <td>blatherskite</td>\n",
       "      <td>Deferential Writer</td>\n",
       "      <td>A Superfluous Tale</td>\n",
       "      <td>NaN</td>\n",
       "    </tr>\n",
       "    <tr>\n",
       "      <th>3</th>\n",
       "      <td>blah blah blah</td>\n",
       "      <td>blatherskite</td>\n",
       "      <td>Deferential Writer</td>\n",
       "      <td>A Superfluous Tale</td>\n",
       "      <td>NaN</td>\n",
       "    </tr>\n",
       "    <tr>\n",
       "      <th>4</th>\n",
       "      <td>blah blah blah</td>\n",
       "      <td>blatherskite</td>\n",
       "      <td>Deferential Writer</td>\n",
       "      <td>A Superfluous Tale</td>\n",
       "      <td>NaN</td>\n",
       "    </tr>\n",
       "    <tr>\n",
       "      <th>5</th>\n",
       "      <td>blah blah blah</td>\n",
       "      <td>blatherskite</td>\n",
       "      <td>Deferential Writer</td>\n",
       "      <td>A Superfluous Tale</td>\n",
       "      <td>NaN</td>\n",
       "    </tr>\n",
       "    <tr>\n",
       "      <th>6</th>\n",
       "      <td>5, 6, 7, 8, who do we appreciate? Platypuses!</td>\n",
       "      <td>blatherskite</td>\n",
       "      <td>Deferential Writer</td>\n",
       "      <td>A Superfluous Tale</td>\n",
       "      <td>NaN</td>\n",
       "    </tr>\n",
       "    <tr>\n",
       "      <th>7</th>\n",
       "      <td>blah blah blah</td>\n",
       "      <td>blatherskite</td>\n",
       "      <td>Deferential Writer</td>\n",
       "      <td>A Superfluous Tale</td>\n",
       "      <td>NaN</td>\n",
       "    </tr>\n",
       "    <tr>\n",
       "      <th>8</th>\n",
       "      <td>blah blah blah</td>\n",
       "      <td>blatherskite</td>\n",
       "      <td>Deferential Writer</td>\n",
       "      <td>A Superfluous Tale</td>\n",
       "      <td>NaN</td>\n",
       "    </tr>\n",
       "    <tr>\n",
       "      <th>9</th>\n",
       "      <td>blah blah blah</td>\n",
       "      <td>blatherskite</td>\n",
       "      <td>Deferential Writer</td>\n",
       "      <td>A Superfluous Tale</td>\n",
       "      <td>NaN</td>\n",
       "    </tr>\n",
       "    <tr>\n",
       "      <th>10</th>\n",
       "      <td>blah blah blah</td>\n",
       "      <td>blatherskite</td>\n",
       "      <td>Deferential Writer</td>\n",
       "      <td>A Superfluous Tale</td>\n",
       "      <td>NaN</td>\n",
       "    </tr>\n",
       "    <tr>\n",
       "      <th>11</th>\n",
       "      <td>blah blah blah</td>\n",
       "      <td>blatherskite</td>\n",
       "      <td>Deferential Writer</td>\n",
       "      <td>A Superfluous Tale</td>\n",
       "      <td>NaN</td>\n",
       "    </tr>\n",
       "    <tr>\n",
       "      <th>12</th>\n",
       "      <td>blah blah blah</td>\n",
       "      <td>blatherskite</td>\n",
       "      <td>Deferential Writer</td>\n",
       "      <td>A Superfluous Tale</td>\n",
       "      <td>NaN</td>\n",
       "    </tr>\n",
       "    <tr>\n",
       "      <th>13</th>\n",
       "      <td>text containing a numeral, 8 in this case</td>\n",
       "      <td>blatherskite</td>\n",
       "      <td>Deferential Writer</td>\n",
       "      <td>A Superfluous Tale</td>\n",
       "      <td>NaN</td>\n",
       "    </tr>\n",
       "    <tr>\n",
       "      <th>14</th>\n",
       "      <td>blah blah blah</td>\n",
       "      <td>blatherskite</td>\n",
       "      <td>Deferential Writer</td>\n",
       "      <td>A Superfluous Tale</td>\n",
       "      <td>NaN</td>\n",
       "    </tr>\n",
       "    <tr>\n",
       "      <th>15</th>\n",
       "      <td>blah blah blah</td>\n",
       "      <td>blatherskite</td>\n",
       "      <td>Deferential Writer</td>\n",
       "      <td>A Superfluous Tale</td>\n",
       "      <td>NaN</td>\n",
       "    </tr>\n",
       "    <tr>\n",
       "      <th>16</th>\n",
       "      <td>blah blah blah</td>\n",
       "      <td>blatherskite</td>\n",
       "      <td>Deferential Writer</td>\n",
       "      <td>A Superfluous Tale</td>\n",
       "      <td>NaN</td>\n",
       "    </tr>\n",
       "    <tr>\n",
       "      <th>17</th>\n",
       "      <td>blah blah blah</td>\n",
       "      <td>blatherskite</td>\n",
       "      <td>Deferential Writer</td>\n",
       "      <td>A Superfluous Tale</td>\n",
       "      <td>NaN</td>\n",
       "    </tr>\n",
       "    <tr>\n",
       "      <th>18</th>\n",
       "      <td>text containing a numeral, 0 in this case</td>\n",
       "      <td>oil changing process</td>\n",
       "      <td>Deferential Writer</td>\n",
       "      <td>A Superfluous Tale</td>\n",
       "      <td>NaN</td>\n",
       "    </tr>\n",
       "    <tr>\n",
       "      <th>19</th>\n",
       "      <td>blah blah blah</td>\n",
       "      <td>oil changing process</td>\n",
       "      <td>Deferential Writer</td>\n",
       "      <td>A Superfluous Tale</td>\n",
       "      <td>NaN</td>\n",
       "    </tr>\n",
       "    <tr>\n",
       "      <th>20</th>\n",
       "      <td>blah blah blah</td>\n",
       "      <td>oil changing process</td>\n",
       "      <td>Deferential Writer</td>\n",
       "      <td>A Superfluous Tale</td>\n",
       "      <td>NaN</td>\n",
       "    </tr>\n",
       "    <tr>\n",
       "      <th>21</th>\n",
       "      <td>blah blah blah</td>\n",
       "      <td>oil changing process</td>\n",
       "      <td>Deferential Writer</td>\n",
       "      <td>A Superfluous Tale</td>\n",
       "      <td>NaN</td>\n",
       "    </tr>\n",
       "    <tr>\n",
       "      <th>22</th>\n",
       "      <td>blah blah blah</td>\n",
       "      <td>oil changing process</td>\n",
       "      <td>Deferential Writer</td>\n",
       "      <td>A Superfluous Tale</td>\n",
       "      <td>NaN</td>\n",
       "    </tr>\n",
       "    <tr>\n",
       "      <th>23</th>\n",
       "      <td>text containing a numeral, 9 in this case</td>\n",
       "      <td>oil changing process</td>\n",
       "      <td>Deferential Writer</td>\n",
       "      <td>A Superfluous Tale</td>\n",
       "      <td>NaN</td>\n",
       "    </tr>\n",
       "    <tr>\n",
       "      <th>24</th>\n",
       "      <td>blah blah blah</td>\n",
       "      <td>oil changing process</td>\n",
       "      <td>Deferential Writer</td>\n",
       "      <td>A Superfluous Tale</td>\n",
       "      <td>NaN</td>\n",
       "    </tr>\n",
       "    <tr>\n",
       "      <th>25</th>\n",
       "      <td>blah blah blah</td>\n",
       "      <td>oil changing process</td>\n",
       "      <td>Deferential Writer</td>\n",
       "      <td>A Superfluous Tale</td>\n",
       "      <td>NaN</td>\n",
       "    </tr>\n",
       "    <tr>\n",
       "      <th>26</th>\n",
       "      <td>blah blah blah</td>\n",
       "      <td>oil changing process</td>\n",
       "      <td>Deferential Writer</td>\n",
       "      <td>A Superfluous Tale</td>\n",
       "      <td>NaN</td>\n",
       "    </tr>\n",
       "    <tr>\n",
       "      <th>27</th>\n",
       "      <td>blah blah blah</td>\n",
       "      <td>oil changing process</td>\n",
       "      <td>Deferential Writer</td>\n",
       "      <td>A Superfluous Tale</td>\n",
       "      <td>NaN</td>\n",
       "    </tr>\n",
       "  </tbody>\n",
       "</table>\n",
       "</div>"
      ],
      "text/plain": [
       "                                             Text               Summary  \\\n",
       "0                                  blah blah blah          blatherskite   \n",
       "1                                  blah blah blah          blatherskite   \n",
       "2               back in 1822, there was a warthog          blatherskite   \n",
       "3                                  blah blah blah          blatherskite   \n",
       "4                                  blah blah blah          blatherskite   \n",
       "5                                  blah blah blah          blatherskite   \n",
       "6   5, 6, 7, 8, who do we appreciate? Platypuses!          blatherskite   \n",
       "7                                  blah blah blah          blatherskite   \n",
       "8                                  blah blah blah          blatherskite   \n",
       "9                                  blah blah blah          blatherskite   \n",
       "10                                 blah blah blah          blatherskite   \n",
       "11                                 blah blah blah          blatherskite   \n",
       "12                                 blah blah blah          blatherskite   \n",
       "13      text containing a numeral, 8 in this case          blatherskite   \n",
       "14                                 blah blah blah          blatherskite   \n",
       "15                                 blah blah blah          blatherskite   \n",
       "16                                 blah blah blah          blatherskite   \n",
       "17                                 blah blah blah          blatherskite   \n",
       "18      text containing a numeral, 0 in this case  oil changing process   \n",
       "19                                 blah blah blah  oil changing process   \n",
       "20                                 blah blah blah  oil changing process   \n",
       "21                                 blah blah blah  oil changing process   \n",
       "22                                 blah blah blah  oil changing process   \n",
       "23      text containing a numeral, 9 in this case  oil changing process   \n",
       "24                                 blah blah blah  oil changing process   \n",
       "25                                 blah blah blah  oil changing process   \n",
       "26                                 blah blah blah  oil changing process   \n",
       "27                                 blah blah blah  oil changing process   \n",
       "\n",
       "                Author               Title PageNumbers  \n",
       "0   Deferential Writer  A Superfluous Tale           5  \n",
       "1   Deferential Writer  A Superfluous Tale         NaN  \n",
       "2   Deferential Writer  A Superfluous Tale         NaN  \n",
       "3   Deferential Writer  A Superfluous Tale         NaN  \n",
       "4   Deferential Writer  A Superfluous Tale         NaN  \n",
       "5   Deferential Writer  A Superfluous Tale         NaN  \n",
       "6   Deferential Writer  A Superfluous Tale         NaN  \n",
       "7   Deferential Writer  A Superfluous Tale         NaN  \n",
       "8   Deferential Writer  A Superfluous Tale         NaN  \n",
       "9   Deferential Writer  A Superfluous Tale         NaN  \n",
       "10  Deferential Writer  A Superfluous Tale         NaN  \n",
       "11  Deferential Writer  A Superfluous Tale         NaN  \n",
       "12  Deferential Writer  A Superfluous Tale         NaN  \n",
       "13  Deferential Writer  A Superfluous Tale         NaN  \n",
       "14  Deferential Writer  A Superfluous Tale         NaN  \n",
       "15  Deferential Writer  A Superfluous Tale         NaN  \n",
       "16  Deferential Writer  A Superfluous Tale         NaN  \n",
       "17  Deferential Writer  A Superfluous Tale         NaN  \n",
       "18  Deferential Writer  A Superfluous Tale         NaN  \n",
       "19  Deferential Writer  A Superfluous Tale         NaN  \n",
       "20  Deferential Writer  A Superfluous Tale         NaN  \n",
       "21  Deferential Writer  A Superfluous Tale         NaN  \n",
       "22  Deferential Writer  A Superfluous Tale         NaN  \n",
       "23  Deferential Writer  A Superfluous Tale         NaN  \n",
       "24  Deferential Writer  A Superfluous Tale         NaN  \n",
       "25  Deferential Writer  A Superfluous Tale         NaN  \n",
       "26  Deferential Writer  A Superfluous Tale         NaN  \n",
       "27  Deferential Writer  A Superfluous Tale         NaN  "
      ]
     },
     "execution_count": 40,
     "metadata": {},
     "output_type": "execute_result"
    }
   ],
   "source": [
    "newcol = np.log(data['PageNumbers'])\n",
    "newcol = pd.Series(youGotItToyotaList)\n",
    "data.assign(PageNumbers=newcol)"
   ]
  },
  {
   "cell_type": "code",
   "execution_count": null,
   "metadata": {},
   "outputs": [],
   "source": []
  },
  {
   "cell_type": "code",
   "execution_count": 69,
   "metadata": {},
   "outputs": [],
   "source": []
  },
  {
   "cell_type": "code",
   "execution_count": null,
   "metadata": {},
   "outputs": [],
   "source": []
  }
 ],
 "metadata": {
  "kernelspec": {
   "display_name": "Python 3",
   "language": "python",
   "name": "python3"
  },
  "language_info": {
   "codemirror_mode": {
    "name": "ipython",
    "version": 3
   },
   "file_extension": ".py",
   "mimetype": "text/x-python",
   "name": "python",
   "nbconvert_exporter": "python",
   "pygments_lexer": "ipython3",
   "version": "3.6.3"
  }
 },
 "nbformat": 4,
 "nbformat_minor": 2
}
