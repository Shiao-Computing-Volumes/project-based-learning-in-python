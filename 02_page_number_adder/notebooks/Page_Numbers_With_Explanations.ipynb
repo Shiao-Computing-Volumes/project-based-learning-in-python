{
 "cells": [
  {
   "cell_type": "markdown",
   "metadata": {},
   "source": [
    "# Page Number Adder"
   ]
  },
  {
   "cell_type": "markdown",
   "metadata": {},
   "source": [
    "## Introduction\n",
    "\n",
    "Requirements:\n",
    "\n",
    "- Inputs: documents with pdf format (1.pdf - 7.pdf)\n",
    "- Outputs: a summary table of pages in each document (details: [page_types.xlsx](../data/page_types.xlsx))\n",
    "    - docs_id, `docs_pages`, `chapter_title_pages`\n",
    "    - `regular_pages`: (min, max)\n",
    "    - `chapter_title_pages`: (min, max)\n",
    "    - `last_page_of_a_chapter`: (min, max)"
   ]
  },
  {
   "cell_type": "markdown",
   "metadata": {},
   "source": [
    "### Inputs: Document List\n",
    "\n",
    "Documents (pdf format)\n",
    "\n",
    "- [1.pdf](../data/pdf/1.pdf)\n",
    "- [2.pdf](../data/pdf/2.pdf)\n",
    "- [3.pdf](../data/pdf/3.pdf)\n",
    "- [4.pdf](../data/pdf/4.pdf)\n",
    "- [5.pdf](../data/pdf/5.pdf)\n",
    "- [6.pdf](../data/pdf/6.pdf)\n",
    "- [7.pdf](../data/pdf/7.pdf)"
   ]
  },
  {
   "cell_type": "markdown",
   "metadata": {},
   "source": [
    "### Outputs: A Summary Table\n",
    "\n",
    "The Summary Table of Books\n",
    "\n",
    "| Page number format | Page number list | List of chapter title pages | Regular page minimum | Regular Page Maximum | Chapter Title Page Minimum | Chapter Title Page Maximum | Last-page-of-a-chapter Page Minimum | Last-page-of-a-chapter Page Maximum |\n",
    "|:-------------------|:-----------------|:----------------------------|:---------------------|:--------------------|:---------------------------|:---------------------------|:------------------------------------|:--------------------------------------|\n",
    "| 1                  | 32, 54, 79       | 54              | | | | | | |\n",
    "| 2                  | 4, 7, 120, 158   | 7               | | | | | | |\n",
    "| 3                  | 63, 77, 88       | 88              | | | | | | |\n",
    "| 4                  | 1, 2, 19, 23     | 19              | | | | | | |\n",
    "| 5                  | 3, 18, 27, 53    | 27              | | | | | | |\n",
    "| 6                  | 22, 33, 37       | 33              | | | | | | |\n",
    "| 7                  | 9, 42, 104       | 42              | | | | | | |\n",
    "\n",
    "\n",
    "Formats:\n",
    "\n",
    "1. the end of the page;\n",
    "2. the end of the page, except chapter title pages have no page number, only the chapter number at the top;\n",
    "2. book-specific: one end-of-chapter page, identified through the user's input;\n",
    "3. the end of the page, except chapter title pages have no page number, Nor any chapter number at the top;\n",
    "4. at the top of the page, except chapter title pages have no page number, only the chapter number at the top;\n",
    "5. at the top of the page, except chapter title pages have no page number, Nor any chapter number at the top;\n",
    "6. the top of the page (and also chapter number below that);\n",
    "7. the top of the page, except chapter title pages have the page number at the end of the page (chapter number is at top of page below the page number)"
   ]
  },
  {
   "cell_type": "markdown",
   "metadata": {},
   "source": [
    "## Overview"
   ]
  },
  {
   "cell_type": "markdown",
   "metadata": {},
   "source": [
    "**Steps**:\n",
    "\n",
    "1. Data Loading\n",
    "    - 1.1. importing packages\n",
    "    - 1.2. loading data\n",
    "2. Data Preprocessing\n",
    "    - 2.1. Generating page numbers\n",
    "        - 2.1.1. Entering page numbers\n",
    "        - 2.1.2. Fixing symbols (comma, hyphen)\n",
    "        - 2.1.3. Generating pages\n",
    "    - 2.2. Generating page numbers and chapter title pages\n",
    "        - 2.2.1. Entering page numbers\n",
    "        - 2.2.2. Entering pages of chapter titles\n",
    "        - 2.2.3. Specifying a document type\n",
    "3. Data Manipulation\n",
    "    - 3.1. Removing invalid records from data (by avoid indexes)\n",
    "    - 3.2. Generating a morphing dictionary (record indexes + page_breaker indexes)\n",
    "        - 3.2.1. Creating a row/record dictionary (key: indexes of records / value: order)\n",
    "        - 3.2.2. Creating a page breaker dictionary (key: indexes of page breakers / value: order)\n",
    "        - 3.2.3. Generating a morphing list (key: indexes of records / values: order or page breaker)\n",
    "    - 3.3. Adding page numbers to a table\n",
    "        - 3.3.1. Filling page numbers between page breakers (morphing dict, page numbers)\n",
    "        - 3.3.2. Assigning page numbers to a csv file\n",
    "\n",
    "\n",
    "**Examples**:\n",
    "\n",
    "Data Preprocessing\n",
    "\n",
    "```\n",
    "2.1.1. Entering page numbers: ['-15', '20', '30-33']\n",
    "2.1.2. Fixing symbols (comma, hyphen): ['0-15', '20', '30-33']\n",
    "2.1.3. Generating pages: [0, 1, 2, 3, 4, 5, 6, 7, 8, 9, 10, 11, 12, 13, 14, 15, 20, 30, 31, 32, 33]\n",
    "```"
   ]
  },
  {
   "cell_type": "markdown",
   "metadata": {},
   "source": [
    "## 1. Data Loading"
   ]
  },
  {
   "cell_type": "markdown",
   "metadata": {},
   "source": [
    "### 1.1. Importing packages"
   ]
  },
  {
   "cell_type": "code",
   "execution_count": 12,
   "metadata": {},
   "outputs": [],
   "source": [
    "from itertools import islice\n",
    "import math, re, operator, fnmatch, itertools\n",
    "\n",
    "import numpy as np\n",
    "import pandas as pd\n",
    "from networkx.utils import powerlaw_sequence"
   ]
  },
  {
   "cell_type": "markdown",
   "metadata": {},
   "source": [
    "### 1.2. Loading data"
   ]
  },
  {
   "cell_type": "code",
   "execution_count": 13,
   "metadata": {},
   "outputs": [],
   "source": [
    "datafile = \"../data/csv/pagenumbers.csv\"\n",
    "data = pd.read_csv(datafile, sep=\",\")"
   ]
  },
  {
   "cell_type": "code",
   "execution_count": 9,
   "metadata": {},
   "outputs": [
    {
     "data": {
      "text/html": [
       "<div>\n",
       "<style scoped>\n",
       "    .dataframe tbody tr th:only-of-type {\n",
       "        vertical-align: middle;\n",
       "    }\n",
       "\n",
       "    .dataframe tbody tr th {\n",
       "        vertical-align: top;\n",
       "    }\n",
       "\n",
       "    .dataframe thead th {\n",
       "        text-align: right;\n",
       "    }\n",
       "</style>\n",
       "<table border=\"1\" class=\"dataframe\">\n",
       "  <thead>\n",
       "    <tr style=\"text-align: right;\">\n",
       "      <th></th>\n",
       "      <th>Text</th>\n",
       "      <th>Summary</th>\n",
       "      <th>Author</th>\n",
       "      <th>Title</th>\n",
       "      <th>Page Numbers</th>\n",
       "    </tr>\n",
       "  </thead>\n",
       "  <tbody>\n",
       "    <tr>\n",
       "      <td>0</td>\n",
       "      <td>blah blah blah</td>\n",
       "      <td>blatherskite</td>\n",
       "      <td>Deferential Writer</td>\n",
       "      <td>A Superfluous Tale</td>\n",
       "      <td>NaN</td>\n",
       "    </tr>\n",
       "    <tr>\n",
       "      <td>1</td>\n",
       "      <td>blah blah blah</td>\n",
       "      <td>blatherskite</td>\n",
       "      <td>Deferential Writer</td>\n",
       "      <td>A Superfluous Tale</td>\n",
       "      <td>NaN</td>\n",
       "    </tr>\n",
       "    <tr>\n",
       "      <td>2</td>\n",
       "      <td>back in 1822, there was a warthog</td>\n",
       "      <td>blatherskite</td>\n",
       "      <td>Deferential Writer</td>\n",
       "      <td>A Superfluous Tale</td>\n",
       "      <td>NaN</td>\n",
       "    </tr>\n",
       "    <tr>\n",
       "      <td>3</td>\n",
       "      <td>blah blah blah</td>\n",
       "      <td>blatherskite</td>\n",
       "      <td>Deferential Writer</td>\n",
       "      <td>A Superfluous Tale</td>\n",
       "      <td>NaN</td>\n",
       "    </tr>\n",
       "    <tr>\n",
       "      <td>4</td>\n",
       "      <td>blah blah blah</td>\n",
       "      <td>blatherskite</td>\n",
       "      <td>Deferential Writer</td>\n",
       "      <td>A Superfluous Tale</td>\n",
       "      <td>NaN</td>\n",
       "    </tr>\n",
       "    <tr>\n",
       "      <td>5</td>\n",
       "      <td>blah blah blah</td>\n",
       "      <td>blatherskite</td>\n",
       "      <td>Deferential Writer</td>\n",
       "      <td>A Superfluous Tale</td>\n",
       "      <td>NaN</td>\n",
       "    </tr>\n",
       "    <tr>\n",
       "      <td>6</td>\n",
       "      <td>5, 6, 7, 8, who do we appreciate? Platypuses!</td>\n",
       "      <td>blatherskite</td>\n",
       "      <td>Deferential Writer</td>\n",
       "      <td>A Superfluous Tale</td>\n",
       "      <td>NaN</td>\n",
       "    </tr>\n",
       "    <tr>\n",
       "      <td>7</td>\n",
       "      <td>blah blah blah</td>\n",
       "      <td>blatherskite</td>\n",
       "      <td>Deferential Writer</td>\n",
       "      <td>A Superfluous Tale</td>\n",
       "      <td>NaN</td>\n",
       "    </tr>\n",
       "    <tr>\n",
       "      <td>8</td>\n",
       "      <td>blah blah blah</td>\n",
       "      <td>blatherskite</td>\n",
       "      <td>Deferential Writer</td>\n",
       "      <td>A Superfluous Tale</td>\n",
       "      <td>NaN</td>\n",
       "    </tr>\n",
       "    <tr>\n",
       "      <td>9</td>\n",
       "      <td>blah blah blah</td>\n",
       "      <td>blatherskite</td>\n",
       "      <td>Deferential Writer</td>\n",
       "      <td>A Superfluous Tale</td>\n",
       "      <td>NaN</td>\n",
       "    </tr>\n",
       "    <tr>\n",
       "      <td>10</td>\n",
       "      <td>blah blah blah</td>\n",
       "      <td>blatherskite</td>\n",
       "      <td>Deferential Writer</td>\n",
       "      <td>A Superfluous Tale</td>\n",
       "      <td>NaN</td>\n",
       "    </tr>\n",
       "    <tr>\n",
       "      <td>11</td>\n",
       "      <td>blah blah blah</td>\n",
       "      <td>blatherskite</td>\n",
       "      <td>Deferential Writer</td>\n",
       "      <td>A Superfluous Tale</td>\n",
       "      <td>NaN</td>\n",
       "    </tr>\n",
       "    <tr>\n",
       "      <td>12</td>\n",
       "      <td>blah blah blah</td>\n",
       "      <td>blatherskite</td>\n",
       "      <td>Deferential Writer</td>\n",
       "      <td>A Superfluous Tale</td>\n",
       "      <td>NaN</td>\n",
       "    </tr>\n",
       "    <tr>\n",
       "      <td>13</td>\n",
       "      <td>text containing a numeral, 8 in this case</td>\n",
       "      <td>blatherskite</td>\n",
       "      <td>Deferential Writer</td>\n",
       "      <td>A Superfluous Tale</td>\n",
       "      <td>NaN</td>\n",
       "    </tr>\n",
       "    <tr>\n",
       "      <td>14</td>\n",
       "      <td>blah blah blah</td>\n",
       "      <td>blatherskite</td>\n",
       "      <td>Deferential Writer</td>\n",
       "      <td>A Superfluous Tale</td>\n",
       "      <td>NaN</td>\n",
       "    </tr>\n",
       "    <tr>\n",
       "      <td>15</td>\n",
       "      <td>blah blah blah</td>\n",
       "      <td>blatherskite</td>\n",
       "      <td>Deferential Writer</td>\n",
       "      <td>A Superfluous Tale</td>\n",
       "      <td>NaN</td>\n",
       "    </tr>\n",
       "    <tr>\n",
       "      <td>16</td>\n",
       "      <td>blah blah blah</td>\n",
       "      <td>blatherskite</td>\n",
       "      <td>Deferential Writer</td>\n",
       "      <td>A Superfluous Tale</td>\n",
       "      <td>NaN</td>\n",
       "    </tr>\n",
       "    <tr>\n",
       "      <td>17</td>\n",
       "      <td>blah blah blah</td>\n",
       "      <td>blatherskite</td>\n",
       "      <td>Deferential Writer</td>\n",
       "      <td>A Superfluous Tale</td>\n",
       "      <td>NaN</td>\n",
       "    </tr>\n",
       "    <tr>\n",
       "      <td>18</td>\n",
       "      <td>text containing a numeral, 0 in this case</td>\n",
       "      <td>oil changing process</td>\n",
       "      <td>Deferential Writer</td>\n",
       "      <td>A Superfluous Tale</td>\n",
       "      <td>NaN</td>\n",
       "    </tr>\n",
       "    <tr>\n",
       "      <td>19</td>\n",
       "      <td>blah blah blah</td>\n",
       "      <td>oil changing process</td>\n",
       "      <td>Deferential Writer</td>\n",
       "      <td>A Superfluous Tale</td>\n",
       "      <td>NaN</td>\n",
       "    </tr>\n",
       "    <tr>\n",
       "      <td>20</td>\n",
       "      <td>blah blah blah</td>\n",
       "      <td>oil changing process</td>\n",
       "      <td>Deferential Writer</td>\n",
       "      <td>A Superfluous Tale</td>\n",
       "      <td>NaN</td>\n",
       "    </tr>\n",
       "    <tr>\n",
       "      <td>21</td>\n",
       "      <td>blah blah blah</td>\n",
       "      <td>oil changing process</td>\n",
       "      <td>Deferential Writer</td>\n",
       "      <td>A Superfluous Tale</td>\n",
       "      <td>NaN</td>\n",
       "    </tr>\n",
       "    <tr>\n",
       "      <td>22</td>\n",
       "      <td>blah blah blah</td>\n",
       "      <td>oil changing process</td>\n",
       "      <td>Deferential Writer</td>\n",
       "      <td>A Superfluous Tale</td>\n",
       "      <td>NaN</td>\n",
       "    </tr>\n",
       "    <tr>\n",
       "      <td>23</td>\n",
       "      <td>text containing a numeral, 9 in this case</td>\n",
       "      <td>oil changing process</td>\n",
       "      <td>Deferential Writer</td>\n",
       "      <td>A Superfluous Tale</td>\n",
       "      <td>NaN</td>\n",
       "    </tr>\n",
       "    <tr>\n",
       "      <td>24</td>\n",
       "      <td>blah blah blah</td>\n",
       "      <td>oil changing process</td>\n",
       "      <td>Deferential Writer</td>\n",
       "      <td>A Superfluous Tale</td>\n",
       "      <td>NaN</td>\n",
       "    </tr>\n",
       "    <tr>\n",
       "      <td>25</td>\n",
       "      <td>blah blah blah</td>\n",
       "      <td>oil changing process</td>\n",
       "      <td>Deferential Writer</td>\n",
       "      <td>A Superfluous Tale</td>\n",
       "      <td>NaN</td>\n",
       "    </tr>\n",
       "    <tr>\n",
       "      <td>26</td>\n",
       "      <td>blah blah blah</td>\n",
       "      <td>oil changing process</td>\n",
       "      <td>Deferential Writer</td>\n",
       "      <td>A Superfluous Tale</td>\n",
       "      <td>NaN</td>\n",
       "    </tr>\n",
       "    <tr>\n",
       "      <td>27</td>\n",
       "      <td>blah blah blah</td>\n",
       "      <td>oil changing process</td>\n",
       "      <td>Deferential Writer</td>\n",
       "      <td>A Superfluous Tale</td>\n",
       "      <td>NaN</td>\n",
       "    </tr>\n",
       "  </tbody>\n",
       "</table>\n",
       "</div>"
      ],
      "text/plain": [
       "                                             Text               Summary  \\\n",
       "0                                  blah blah blah          blatherskite   \n",
       "1                                  blah blah blah          blatherskite   \n",
       "2               back in 1822, there was a warthog          blatherskite   \n",
       "3                                  blah blah blah          blatherskite   \n",
       "4                                  blah blah blah          blatherskite   \n",
       "5                                  blah blah blah          blatherskite   \n",
       "6   5, 6, 7, 8, who do we appreciate? Platypuses!          blatherskite   \n",
       "7                                  blah blah blah          blatherskite   \n",
       "8                                  blah blah blah          blatherskite   \n",
       "9                                  blah blah blah          blatherskite   \n",
       "10                                 blah blah blah          blatherskite   \n",
       "11                                 blah blah blah          blatherskite   \n",
       "12                                 blah blah blah          blatherskite   \n",
       "13      text containing a numeral, 8 in this case          blatherskite   \n",
       "14                                 blah blah blah          blatherskite   \n",
       "15                                 blah blah blah          blatherskite   \n",
       "16                                 blah blah blah          blatherskite   \n",
       "17                                 blah blah blah          blatherskite   \n",
       "18      text containing a numeral, 0 in this case  oil changing process   \n",
       "19                                 blah blah blah  oil changing process   \n",
       "20                                 blah blah blah  oil changing process   \n",
       "21                                 blah blah blah  oil changing process   \n",
       "22                                 blah blah blah  oil changing process   \n",
       "23      text containing a numeral, 9 in this case  oil changing process   \n",
       "24                                 blah blah blah  oil changing process   \n",
       "25                                 blah blah blah  oil changing process   \n",
       "26                                 blah blah blah  oil changing process   \n",
       "27                                 blah blah blah  oil changing process   \n",
       "\n",
       "                Author               Title  Page Numbers  \n",
       "0   Deferential Writer  A Superfluous Tale           NaN  \n",
       "1   Deferential Writer  A Superfluous Tale           NaN  \n",
       "2   Deferential Writer  A Superfluous Tale           NaN  \n",
       "3   Deferential Writer  A Superfluous Tale           NaN  \n",
       "4   Deferential Writer  A Superfluous Tale           NaN  \n",
       "5   Deferential Writer  A Superfluous Tale           NaN  \n",
       "6   Deferential Writer  A Superfluous Tale           NaN  \n",
       "7   Deferential Writer  A Superfluous Tale           NaN  \n",
       "8   Deferential Writer  A Superfluous Tale           NaN  \n",
       "9   Deferential Writer  A Superfluous Tale           NaN  \n",
       "10  Deferential Writer  A Superfluous Tale           NaN  \n",
       "11  Deferential Writer  A Superfluous Tale           NaN  \n",
       "12  Deferential Writer  A Superfluous Tale           NaN  \n",
       "13  Deferential Writer  A Superfluous Tale           NaN  \n",
       "14  Deferential Writer  A Superfluous Tale           NaN  \n",
       "15  Deferential Writer  A Superfluous Tale           NaN  \n",
       "16  Deferential Writer  A Superfluous Tale           NaN  \n",
       "17  Deferential Writer  A Superfluous Tale           NaN  \n",
       "18  Deferential Writer  A Superfluous Tale           NaN  \n",
       "19  Deferential Writer  A Superfluous Tale           NaN  \n",
       "20  Deferential Writer  A Superfluous Tale           NaN  \n",
       "21  Deferential Writer  A Superfluous Tale           NaN  \n",
       "22  Deferential Writer  A Superfluous Tale           NaN  \n",
       "23  Deferential Writer  A Superfluous Tale           NaN  \n",
       "24  Deferential Writer  A Superfluous Tale           NaN  \n",
       "25  Deferential Writer  A Superfluous Tale           NaN  \n",
       "26  Deferential Writer  A Superfluous Tale           NaN  \n",
       "27  Deferential Writer  A Superfluous Tale           NaN  "
      ]
     },
     "execution_count": 9,
     "metadata": {},
     "output_type": "execute_result"
    }
   ],
   "source": [
    "data"
   ]
  },
  {
   "cell_type": "markdown",
   "metadata": {},
   "source": [
    "## 2. Data Preprocessing"
   ]
  },
  {
   "cell_type": "markdown",
   "metadata": {},
   "source": [
    "### 2.1. Generating page numbers"
   ]
  },
  {
   "cell_type": "markdown",
   "metadata": {},
   "source": [
    "#### 2.1.1. Entering page numbers"
   ]
  },
  {
   "cell_type": "code",
   "execution_count": 11,
   "metadata": {},
   "outputs": [
    {
     "name": "stdout",
     "output_type": "stream",
     "text": [
      "\n",
      "Please enter your list of page numbers, separating by\n",
      "a comma and an empty space (e.g. 12, 34).\n",
      "\n",
      "12, 34\n"
     ]
    }
   ],
   "source": [
    "txt = \"\"\"\n",
    "Please enter your list of page numbers, separating by\n",
    "a comma and an empty space (e.g. 12, 34).\n",
    "\"\"\"\n",
    "\n",
    "print(txt)\n",
    "page_numbers = [(x) for x in input().split(', ')]"
   ]
  },
  {
   "cell_type": "code",
   "execution_count": 15,
   "metadata": {},
   "outputs": [
    {
     "name": "stdout",
     "output_type": "stream",
     "text": [
      "['12', '34']\n"
     ]
    }
   ],
   "source": [
    "print(page_numbers)"
   ]
  },
  {
   "cell_type": "markdown",
   "metadata": {},
   "source": [
    "#### 2.1.2. Fixing symbols (comma, hyphen)"
   ]
  },
  {
   "cell_type": "code",
   "execution_count": 34,
   "metadata": {},
   "outputs": [],
   "source": [
    "def commaHyphenFix(lliissttyy):\n",
    "    pageNumberList = []\n",
    "    priorNumber = 0\n",
    "    for stringchar, item in enumerate(lliissttyy):\n",
    "        if \"-\" in item:\n",
    "            splitNumber1, splitNumber2 = item.split('-')   \n",
    "            if splitNumber1 == \"\":\n",
    "                \n",
    "                pageNumberList.append(str(priorNumber) + \"-\" + splitNumber2) \n",
    "        priorNumber = lliissttyy[stringchar]\n",
    "\n",
    "    return pageNumberList"
   ]
  },
  {
   "cell_type": "code",
   "execution_count": 25,
   "metadata": {},
   "outputs": [
    {
     "data": {
      "text/plain": [
       "['0-12']"
      ]
     },
     "execution_count": 25,
     "metadata": {},
     "output_type": "execute_result"
    }
   ],
   "source": [
    "commaHyphenFix(['-12', '14', '15-17'])"
   ]
  },
  {
   "cell_type": "code",
   "execution_count": 26,
   "metadata": {},
   "outputs": [
    {
     "data": {
      "text/plain": [
       "[]"
      ]
     },
     "execution_count": 26,
     "metadata": {},
     "output_type": "execute_result"
    }
   ],
   "source": [
    "commaHyphenFix(['14', '15-17'])"
   ]
  },
  {
   "cell_type": "code",
   "execution_count": 27,
   "metadata": {},
   "outputs": [
    {
     "data": {
      "text/plain": [
       "[]"
      ]
     },
     "execution_count": 27,
     "metadata": {},
     "output_type": "execute_result"
    }
   ],
   "source": [
    "commaHyphenFix(['15-17'])"
   ]
  },
  {
   "cell_type": "code",
   "execution_count": 29,
   "metadata": {},
   "outputs": [
    {
     "data": {
      "text/plain": [
       "['0-50']"
      ]
     },
     "execution_count": 29,
     "metadata": {},
     "output_type": "execute_result"
    }
   ],
   "source": [
    "commaHyphenFix(['-50'])"
   ]
  },
  {
   "cell_type": "code",
   "execution_count": 47,
   "metadata": {},
   "outputs": [
    {
     "data": {
      "text/plain": [
       "['0-14', '15-17-50', '-50-51', '-51-100']"
      ]
     },
     "execution_count": 47,
     "metadata": {},
     "output_type": "execute_result"
    }
   ],
   "source": [
    "commaHyphenFix(['-14', '15-17', '-50', '-51', '-100'])"
   ]
  },
  {
   "cell_type": "code",
   "execution_count": 45,
   "metadata": {},
   "outputs": [
    {
     "data": {
      "text/plain": [
       "['0-14', '51-100']"
      ]
     },
     "execution_count": 45,
     "metadata": {},
     "output_type": "execute_result"
    }
   ],
   "source": [
    "commaHyphenFix(['-14', '15-17', '50', '51', '-100'])"
   ]
  },
  {
   "cell_type": "code",
   "execution_count": 32,
   "metadata": {},
   "outputs": [
    {
     "ename": "ValueError",
     "evalue": "not enough values to unpack (expected 2, got 1)",
     "output_type": "error",
     "traceback": [
      "\u001b[0;31m---------------------------------------------------------------------------\u001b[0m",
      "\u001b[0;31mValueError\u001b[0m                                Traceback (most recent call last)",
      "\u001b[0;32m<ipython-input-32-898a40e3422e>\u001b[0m in \u001b[0;36m<module>\u001b[0;34m\u001b[0m\n\u001b[0;32m----> 1\u001b[0;31m \u001b[0mresult1\u001b[0m\u001b[0;34m,\u001b[0m \u001b[0mresult2\u001b[0m \u001b[0;34m=\u001b[0m \u001b[0;34m'20'\u001b[0m\u001b[0;34m.\u001b[0m\u001b[0msplit\u001b[0m\u001b[0;34m(\u001b[0m\u001b[0;34m'-'\u001b[0m\u001b[0;34m)\u001b[0m\u001b[0;34m\u001b[0m\u001b[0m\n\u001b[0m\u001b[1;32m      2\u001b[0m \u001b[0mprint\u001b[0m\u001b[0;34m(\u001b[0m\u001b[0mresult1\u001b[0m\u001b[0;34m,\u001b[0m \u001b[0mresult2\u001b[0m\u001b[0;34m)\u001b[0m\u001b[0;34m\u001b[0m\u001b[0m\n",
      "\u001b[0;31mValueError\u001b[0m: not enough values to unpack (expected 2, got 1)"
     ]
    }
   ],
   "source": [
    "result1, result2 = '20'.split('-')\n",
    "print(result1, result2)"
   ]
  },
  {
   "cell_type": "code",
   "execution_count": 35,
   "metadata": {},
   "outputs": [
    {
     "name": "stdout",
     "output_type": "stream",
     "text": [
      "20 25\n"
     ]
    }
   ],
   "source": [
    "result1, result2 = '20-25'.split('-')\n",
    "print(result1, result2)"
   ]
  },
  {
   "cell_type": "code",
   "execution_count": 48,
   "metadata": {},
   "outputs": [
    {
     "name": "stdout",
     "output_type": "stream",
     "text": [
      "0 -14\n",
      "1 15-17\n",
      "2 -50\n",
      "3 -51\n",
      "4 -100\n"
     ]
    }
   ],
   "source": [
    "for stringchar, item in enumerate(['-14', '15-17', '-50', '-51', '-100']):\n",
    "    print(stringchar, item)"
   ]
  },
  {
   "cell_type": "markdown",
   "metadata": {},
   "source": [
    "#### 2.1.3. Generating pages"
   ]
  },
  {
   "cell_type": "code",
   "execution_count": 51,
   "metadata": {},
   "outputs": [],
   "source": [
    "def addPages(lliisstt):\n",
    "    pageNumberList = []\n",
    "    for stringchar, item in enumerate(lliisstt):\n",
    "        if \"-\" in item:\n",
    "            splitNumber1, splitNumber2 = item.split('-')   \n",
    "            rangy = int(splitNumber2) - int(splitNumber1) + 1\n",
    "            for counter in range(rangy):          \n",
    "                splitNumber = str(int(splitNumber1) + counter)\n",
    "                pageNumberList.append(splitNumber) \n",
    "        else:\n",
    "            pageNumberList.append(item) \n",
    "                \n",
    "    return pageNumberList"
   ]
  },
  {
   "cell_type": "code",
   "execution_count": 53,
   "metadata": {},
   "outputs": [
    {
     "name": "stdout",
     "output_type": "stream",
     "text": [
      "['0', '1', '2', '3', '4', '5', '6', '7', '8', '9', '10', '11', '12']\n"
     ]
    }
   ],
   "source": [
    "yayList = addPages(['0-12'])\n",
    "print(yayList)"
   ]
  },
  {
   "cell_type": "code",
   "execution_count": 55,
   "metadata": {},
   "outputs": [
    {
     "name": "stdout",
     "output_type": "stream",
     "text": [
      "['13', '14', '15']\n"
     ]
    }
   ],
   "source": [
    "yayList = addPages(['13-15'])\n",
    "print(yayList)"
   ]
  },
  {
   "cell_type": "markdown",
   "metadata": {},
   "source": [
    "### 2.2.  Generating page numbers and chapter title pages"
   ]
  },
  {
   "cell_type": "markdown",
   "metadata": {},
   "source": [
    "#### 2.2.1. Entering page numbers"
   ]
  },
  {
   "cell_type": "code",
   "execution_count": 58,
   "metadata": {},
   "outputs": [
    {
     "name": "stdout",
     "output_type": "stream",
     "text": [
      "Please indicate where the page numbers are located: 12,34,56\n",
      "12,34,56\n"
     ]
    }
   ],
   "source": [
    "paginationFormat = input(\"Please indicate where the page numbers are located: \")\n",
    "print(paginationFormat)"
   ]
  },
  {
   "cell_type": "markdown",
   "metadata": {},
   "source": [
    "#### 2.2.2. Entering pages of chapter titles"
   ]
  },
  {
   "cell_type": "code",
   "execution_count": 2,
   "metadata": {},
   "outputs": [
    {
     "name": "stdout",
     "output_type": "stream",
     "text": [
      "What pages are chapter title pages?12\n",
      "12\n"
     ]
    }
   ],
   "source": [
    "chapterTitlePageList = input(\"What pages are chapter title pages?\")\n",
    "print(chapterTitlePageList)"
   ]
  },
  {
   "cell_type": "code",
   "execution_count": 3,
   "metadata": {},
   "outputs": [],
   "source": [
    "def chTitlePage(chapterTitlePageList):\n",
    "    pass"
   ]
  },
  {
   "cell_type": "code",
   "execution_count": 4,
   "metadata": {},
   "outputs": [],
   "source": [
    "chTitlePage(12)"
   ]
  },
  {
   "cell_type": "markdown",
   "metadata": {},
   "source": [
    "#### 2.2.3. Specifying a document type"
   ]
  },
  {
   "cell_type": "code",
   "execution_count": 56,
   "metadata": {},
   "outputs": [
    {
     "name": "stdout",
     "output_type": "stream",
     "text": [
      "\n",
      "Where are the page numbers?\n",
      "1 the end of the page;\n",
      "2 the end of the page, except chapter title pages have no page number, only the chapter number at the top; \n",
      "3 the end of the page, except chapter title pages have no page number, Nor any chapter number at the top; \n",
      "4 the end of the page including chapter title pages, which also have chapter title page at the top; \n",
      "5 at the top of the page, except chapter title pages have no page number, Nor any chapter number at the top; \n",
      "6 the top of the page, except chapter title pages have no page number, only the chapter number at the top; \n",
      "7 the top of the page; \n",
      "8 the top of the page, except chapter title pages have the page number at the end of the page.\n",
      "\n"
     ]
    }
   ],
   "source": [
    "txt = \"\"\"\n",
    "Where are the page numbers?\n",
    "1 the end of the page;\n",
    "2 the end of the page, except chapter title pages have no page number, only the chapter number at the top; \n",
    "3 the end of the page, except chapter title pages have no page number, Nor any chapter number at the top; \n",
    "4 the end of the page including chapter title pages, which also have chapter title page at the top; \n",
    "5 at the top of the page, except chapter title pages have no page number, Nor any chapter number at the top; \n",
    "6 the top of the page, except chapter title pages have no page number, only the chapter number at the top; \n",
    "7 the top of the page; \n",
    "8 the top of the page, except chapter title pages have the page number at the end of the page.\n",
    "\"\"\"\n",
    "\n",
    "print(txt)"
   ]
  },
  {
   "cell_type": "code",
   "execution_count": 9,
   "metadata": {},
   "outputs": [],
   "source": [
    "def numberLayout(pageNumberPattern):\n",
    "    rangeOfNumbers = 7  # ?\n",
    "\n",
    "    for a in rangeOfNumbers:\n",
    "        if pageNumberPattern == a:\n",
    "            pass\n",
    "\n",
    "    return "
   ]
  },
  {
   "cell_type": "code",
   "execution_count": 10,
   "metadata": {},
   "outputs": [
    {
     "ename": "TypeError",
     "evalue": "numberLayout() missing 1 required positional argument: 'pageNumberPattern'",
     "output_type": "error",
     "traceback": [
      "\u001b[0;31m---------------------------------------------------------------------------\u001b[0m",
      "\u001b[0;31mTypeError\u001b[0m                                 Traceback (most recent call last)",
      "\u001b[0;32m<ipython-input-10-67603b6940e3>\u001b[0m in \u001b[0;36m<module>\u001b[0;34m\u001b[0m\n\u001b[0;32m----> 1\u001b[0;31m \u001b[0mnumberLayout\u001b[0m\u001b[0;34m(\u001b[0m\u001b[0;34m)\u001b[0m\u001b[0;34m\u001b[0m\u001b[0m\n\u001b[0m",
      "\u001b[0;31mTypeError\u001b[0m: numberLayout() missing 1 required positional argument: 'pageNumberPattern'"
     ]
    }
   ],
   "source": [
    "numberLayout(3)"
   ]
  },
  {
   "cell_type": "markdown",
   "metadata": {},
   "source": [
    "## 3. Data Manipulation"
   ]
  },
  {
   "cell_type": "markdown",
   "metadata": {},
   "source": [
    "### 3.1. Removing invalid records from data (by avoid indexes)"
   ]
  },
  {
   "cell_type": "code",
   "execution_count": 22,
   "metadata": {},
   "outputs": [],
   "source": [
    "dataReg = open(datafile)\n",
    "listOIndexes = []"
   ]
  },
  {
   "cell_type": "code",
   "execution_count": 23,
   "metadata": {},
   "outputs": [],
   "source": [
    "def getRawIndexList():\n",
    "    listToAvoid = ('0:','1:','2:','3:', '4:', '5:', '6:', '7:', '8:', '9:', ':0', ':1', ':2', ':3', ':4', ':5', ':6', ':7', ':8', ':9', '0:','1:','2:','3:', '4:', '5:', '6:', '7:', '8:', '9:', ':0', ':1', ':2', ':3', ':4', ':5', ':6', ':7', ':8', ':9', '0.','1.','2.','3.', '4.', '5.', '6.', '7.', '8.', '9.', '.0', '.1', '.2', '.3', '.4', '.5', '.6', '.7', '.8', '.9')\n",
    "    for rowIndexes, row in enumerate(dataReg):\n",
    "        if re.search('[0-9]', row):  # only the row that contains 0-9\n",
    "            print(row)\n",
    "            if row in listToAvoid:\n",
    "                pass\n",
    "            else:\n",
    "                listOIndexes.append(rowIndexes)\n",
    "    return listOIndexes"
   ]
  },
  {
   "cell_type": "code",
   "execution_count": 24,
   "metadata": {},
   "outputs": [
    {
     "name": "stdout",
     "output_type": "stream",
     "text": [
      "\"back in 1822, there was a warthog\",blatherskite,Deferential Writer,A Superfluous Tale,\n",
      "\n",
      "\"5, 6, 7, 8, who do we appreciate? Platypuses!\",blatherskite,Deferential Writer,A Superfluous Tale,\n",
      "\n",
      "\"text containing a numeral, 8 in this case\",blatherskite,Deferential Writer,A Superfluous Tale,\n",
      "\n",
      "\"text containing a numeral, 0 in this case\",oil changing process,Deferential Writer,A Superfluous Tale,\n",
      "\n",
      "\"text containing a numeral, 9 in this case\",oil changing process,Deferential Writer,A Superfluous Tale,\n",
      "\n",
      "[3, 7, 14, 19, 24]\n"
     ]
    }
   ],
   "source": [
    "rawIndexList = getRawIndexList()\n",
    "print(rawIndexList)"
   ]
  },
  {
   "cell_type": "markdown",
   "metadata": {},
   "source": [
    "### 3.2. Generating a morphing dictionary (record indexes + page_breaker indexes)"
   ]
  },
  {
   "cell_type": "markdown",
   "metadata": {},
   "source": [
    "#### 3.2.1. Creating a row/record dictionary (key: indexes of records / value: order)"
   ]
  },
  {
   "cell_type": "code",
   "execution_count": 25,
   "metadata": {},
   "outputs": [],
   "source": [
    "def initializeDictionaryOfRows(initializeListOfRows):\n",
    "    rowDict = {k: v for v, k in enumerate(initializeListOfRows)}\n",
    "    return(rowDict)"
   ]
  },
  {
   "cell_type": "code",
   "execution_count": 29,
   "metadata": {},
   "outputs": [
    {
     "name": "stdout",
     "output_type": "stream",
     "text": [
      "{None: 4345}\n"
     ]
    }
   ],
   "source": [
    "listOfRows = [None]*4346\n",
    "dictOfRows = initializeDictionaryOfRows(listOfRows)\n",
    "print(dictOfRows)"
   ]
  },
  {
   "cell_type": "markdown",
   "metadata": {},
   "source": [
    "#### 3.2.2. Creating a page breaker dictionary (key: indexes of page breakers / value: order)"
   ]
  },
  {
   "cell_type": "code",
   "execution_count": 30,
   "metadata": {},
   "outputs": [],
   "source": [
    "def assignListOfIndexesToDict(indexList):\n",
    "    inDictMint = {k: v for v, k in enumerate(indexList)}\n",
    "    return(inDictMint)"
   ]
  },
  {
   "cell_type": "code",
   "execution_count": 31,
   "metadata": {},
   "outputs": [
    {
     "name": "stdout",
     "output_type": "stream",
     "text": [
      "{1: 0, 36: 1, 73: 2, 110: 3, 147: 4, 186: 5, 222: 6, 258: 7, 294: 8, 331: 9, 369: 10, 402: 11, 437: 12, 470: 13, 506: 14, 539: 15, 576: 16, 644: 17, 678: 18, 715: 19, 751: 20, 787: 21, 823: 22, 860: 23, 895: 24, 931: 25, 965: 26, 1001: 27, 1028: 28, 1064: 29, 1100: 30, 1135: 31, 1170: 32, 1204: 33, 1240: 34, 1277: 35, 1314: 36, 1349: 37, 1386: 38, 1422: 39, 1458: 40, 1494: 41, 1529: 42, 1564: 43, 1591: 44, 1627: 45, 1664: 46, 1702: 47, 1739: 48, 1776: 49, 1810: 50, 1844: 51, 1880: 52, 1917: 53, 1952: 54, 1984: 55, 2023: 56, 2060: 57, 2095: 58, 2131: 59, 2168: 60, 2205: 61, 2239: 62, 2276: 63, 2312: 64, 2345: 65, 2381: 66, 2417: 67, 2453: 68, 2490: 69, 2527: 70, 2562: 71, 2599: 72, 2636: 73, 2673: 74, 2710: 75, 2747: 76, 2782: 77, 2818: 78, 2855: 79, 2891: 80, 2926: 81, 2962: 82, 2996: 83, 3033: 84, 3071: 85, 3109: 86, 3144: 87, 3182: 88, 3219: 89, 3255: 90, 3289: 91, 3326: 92, 3363: 93, 3398: 94, 3435: 95, 3471: 96, 3508: 97, 3545: 98, 3582: 99, 3617: 100, 3654: 101, 3717: 102, 3750: 103, 3786: 104, 3820: 105, 3857: 106, 3894: 107, 3931: 108, 3966: 109, 4003: 110, 4040: 111, 4075: 112, 4110: 113, 4146: 114, 4183: 115, 4219: 116, 4254: 117, 4291: 118, 4328: 119}\n"
     ]
    }
   ],
   "source": [
    "listOfIndexes = [1, 36, 73, 110, 147, 186, 222, 258, 294, 331, 369, 402, 437, 470, 506, 539, 576, 644, 678, 715, 751, 787, 823, 860, 895, 931, 965, 1001, 1028, 1064, 1100, 1135, 1170, 1204, 1240, 1277, 1314, 1349, 1386, 1422, 1458, 1494, 1529, 1564, 1591, 1627, 1664, 1702, 1739, 1776, 1810, 1844, 1880, 1917, 1952, 1984, 2023, 2060, 2095, 2131, 2168, 2205, 2239, 2276, 2312, 2345, 2381, 2417, 2453, 2490, 2527, 2562, 2599, 2636, 2673, 2710, 2747, 2782, 2818, 2855, 2891, 2926, 2962, 2996, 3033, 3071, 3109, 3144, 3182, 3219, 3255, 3289, 3326, 3363, 3398, 3435, 3471, 3508, 3545, 3582, 3617, 3654, 3717, 3750, 3786, 3820, 3857, 3894, 3931, 3966, 4003, 4040, 4075, 4110, 4146, 4183, 4219, 4254, 4291, 4328]\n",
    "dictOfIndexes = assignListOfIndexesToDict(listOfIndexes)\n",
    "print(dictOfIndexes)"
   ]
  },
  {
   "cell_type": "markdown",
   "metadata": {},
   "source": [
    "#### 3.2.3. Generating a morphing list (key: indexes of records / values: order or page breaker)"
   ]
  },
  {
   "cell_type": "code",
   "execution_count": 32,
   "metadata": {},
   "outputs": [],
   "source": [
    "def addPagebreakers(ur_Dict_Of_Rows, ur_Dict_Of_Indexes):\n",
    "    #Take dictOfRows and add pagebreakers based on dictOfIndexes\n",
    "    newDict = {}\n",
    "    for k,cellValue in ur_Dict_Of_Rows.items():\n",
    "        if cellValue in ur_Dict_Of_Indexes:\n",
    "            newDict[cellValue] = 'pagebreaker'\n",
    "        else:\n",
    "            newDict[cellValue] = cellValue\n",
    "    return newDict"
   ]
  },
  {
   "cell_type": "code",
   "execution_count": 33,
   "metadata": {},
   "outputs": [
    {
     "data": {
      "text/plain": [
       "{4345: 4345}"
      ]
     },
     "execution_count": 33,
     "metadata": {},
     "output_type": "execute_result"
    }
   ],
   "source": [
    "morphingDict = addPagebreakers(dictOfRows, dictOfIndexes)\n",
    "morphingDict"
   ]
  },
  {
   "cell_type": "code",
   "execution_count": 34,
   "metadata": {},
   "outputs": [
    {
     "data": {
      "text/plain": [
       "{0: 0, 1: 'pagebreaker', 2: 2}"
      ]
     },
     "execution_count": 34,
     "metadata": {},
     "output_type": "execute_result"
    }
   ],
   "source": [
    "rows = {0:0, 1:1, 2:2}\n",
    "indexes = {1:0}\n",
    "addPagebreakers(rows, indexes)"
   ]
  },
  {
   "cell_type": "markdown",
   "metadata": {},
   "source": [
    "### 3.3. Adding page numbers to a table"
   ]
  },
  {
   "cell_type": "markdown",
   "metadata": {},
   "source": [
    "#### 3.3.1. Filling page numbers between page breakers (morphing dict, page numbers)"
   ]
  },
  {
   "cell_type": "code",
   "execution_count": 35,
   "metadata": {},
   "outputs": [],
   "source": [
    "def addPageNumbers(dictInProgress, yayIndexListAgain, pageNumberList, rowList, indexList):\n",
    "    finalList = []\n",
    "    counter = 0\n",
    "\n",
    "    for i, v in enumerate(dictInProgress):\n",
    "        if dictInProgress[v] == \"pagebreaker\":\n",
    "            counter += 1\n",
    "            finalList.append(\"pageBreaker\")\n",
    "        else:\n",
    "            if counter < len(yayIndexListAgain):\n",
    "                finalList.append(str(pageNumberList[counter]))\n",
    "                \n",
    "    print(finalList)\n",
    "\n",
    "    return finalList"
   ]
  },
  {
   "cell_type": "code",
   "execution_count": 36,
   "metadata": {},
   "outputs": [
    {
     "name": "stdout",
     "output_type": "stream",
     "text": [
      "['5']\n"
     ]
    }
   ],
   "source": [
    "listOfPageNumbers = [5, 6, 7, 8, 9, 10, 13, 14, 15, 17, 26, 27, 28, 36, 37, 38, 39, 42, 43, 44, 45, 46, 47, 48, 49, 54, 55, 56, 57, 58, 59, 60, 61, 62, 65, 67, 71, 73, 74, 75, 76, 77, 78, 79, 80, 81, 82, 83, 84, 85, 86, 87, 88, 89, 90, 92, 93, 94, 95, 96, 97, 98, 99, 100, 101, 102, 103, 104, 105, 106, 107, 108, 110, 111, 114, 117, 120, 121, 123, 124, 127, 128, 129, 130, 131, 132, 141, 145, 147, 148, 149, 150, 151, 152, 153, 154, 155, 156, 157, 158, 159, 160, 161, 162, 163, 164, 165, 166, 167, 168, 169, 170, 171, 172, 174, 175, 176, 177, 178, 179, 180, 181]\n",
    "youGotItToyotaList = addPageNumbers(morphingDict, dictOfIndexes, listOfPageNumbers, listOfRows, listOfIndexes)"
   ]
  },
  {
   "cell_type": "code",
   "execution_count": 37,
   "metadata": {},
   "outputs": [],
   "source": [
    "def addPageNumbers(dictInProgress, yayIndexListAgain, pageNumberList):\n",
    "    finalList = []\n",
    "    counter = 0\n",
    "\n",
    "    for i, v in enumerate(dictInProgress):\n",
    "        if dictInProgress[v] == \"pagebreaker\":\n",
    "            counter += 1\n",
    "            finalList.append(\"pageBreaker\")\n",
    "        else:\n",
    "            if counter < len(yayIndexListAgain):\n",
    "                finalList.append(str(pageNumberList[counter]))\n",
    "                \n",
    "    print(finalList)\n",
    "\n",
    "    return finalList"
   ]
  },
  {
   "cell_type": "code",
   "execution_count": 38,
   "metadata": {},
   "outputs": [
    {
     "name": "stdout",
     "output_type": "stream",
     "text": [
      "['5']\n"
     ]
    }
   ],
   "source": [
    "listOfPageNumbers = [5, 6, 7, 8, 9, 10, 13, 14, 15, 17, 26, 27, 28, 36, 37, 38, 39, 42, 43, 44, 45, 46, 47, 48, 49, 54, 55, 56, 57, 58, 59, 60, 61, 62, 65, 67, 71, 73, 74, 75, 76, 77, 78, 79, 80, 81, 82, 83, 84, 85, 86, 87, 88, 89, 90, 92, 93, 94, 95, 96, 97, 98, 99, 100, 101, 102, 103, 104, 105, 106, 107, 108, 110, 111, 114, 117, 120, 121, 123, 124, 127, 128, 129, 130, 131, 132, 141, 145, 147, 148, 149, 150, 151, 152, 153, 154, 155, 156, 157, 158, 159, 160, 161, 162, 163, 164, 165, 166, 167, 168, 169, 170, 171, 172, 174, 175, 176, 177, 178, 179, 180, 181]\n",
    "youGotItToyotaList = addPageNumbers(morphingDict, dictOfIndexes, listOfPageNumbers)"
   ]
  },
  {
   "cell_type": "code",
   "execution_count": 46,
   "metadata": {},
   "outputs": [
    {
     "name": "stdout",
     "output_type": "stream",
     "text": [
      "['1', 'pageBreaker', '3', '3', '3', 'pageBreaker']\n"
     ]
    },
    {
     "data": {
      "text/plain": [
       "['1', 'pageBreaker', '3', '3', '3', 'pageBreaker']"
      ]
     },
     "execution_count": 46,
     "metadata": {},
     "output_type": "execute_result"
    }
   ],
   "source": [
    "clean_dict = {\n",
    "    1: 0, \n",
    "    2: 'pagebreaker', \n",
    "    3: 2, \n",
    "    4: 3, \n",
    "    5: 4, \n",
    "    6: 'pagebreaker'}\n",
    "\n",
    "page_breakers = {2:0, 6:1}\n",
    "pages_between_breakers = [1,3]\n",
    "addPageNumbers(clean_dict, page_breakers, pages_between_breakers)"
   ]
  },
  {
   "cell_type": "markdown",
   "metadata": {},
   "source": [
    "#### 3.3.2. Assigning page numbers to a csv file"
   ]
  },
  {
   "cell_type": "code",
   "execution_count": 41,
   "metadata": {},
   "outputs": [],
   "source": [
    "newcol = np.log(data['Page Numbers'])\n",
    "newcol = pd.Series(youGotItToyotaList)\n",
    "#data.assign(PageNumbers=newcol)"
   ]
  },
  {
   "cell_type": "code",
   "execution_count": null,
   "metadata": {},
   "outputs": [],
   "source": []
  },
  {
   "cell_type": "code",
   "execution_count": null,
   "metadata": {},
   "outputs": [],
   "source": []
  }
 ],
 "metadata": {
  "kernelspec": {
   "display_name": "Python 3",
   "language": "python",
   "name": "python3"
  },
  "language_info": {
   "codemirror_mode": {
    "name": "ipython",
    "version": 3
   },
   "file_extension": ".py",
   "mimetype": "text/x-python",
   "name": "python",
   "nbconvert_exporter": "python",
   "pygments_lexer": "ipython3",
   "version": "3.6.3"
  }
 },
 "nbformat": 4,
 "nbformat_minor": 2
}
